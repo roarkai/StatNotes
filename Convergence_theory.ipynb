{
 "cells": [
  {
   "cell_type": "markdown",
   "id": "6a9570dd",
   "metadata": {},
   "source": [
    "# Convergence Theory"
   ]
  },
  {
   "cell_type": "markdown",
   "id": "4756806c",
   "metadata": {},
   "source": [
    "## I. 几个基础的收敛性定义\n",
    "### I.1 依分布收敛(converge in distribution，也称converge weakly, converge in law)\n",
    "有随机变量序列$X_i, X_2, ..., X_n, ...$和另一个随机变量X有相同的取值空间，他们的累积分布函数CDF分别为$F_1, F_2, ..., F_n, ...$和$F$。如果对取值空间中的所有x，都有：$$\\lim_{n \\to \\infty}F_n(x)=F(x)$$则称$F_n$依分布收敛到F，记为：$$X_n\\overset{D}{\\rightarrow} X$$"
   ]
  },
  {
   "cell_type": "markdown",
   "id": "008ef0b9",
   "metadata": {},
   "source": [
    "<font color=orange>例：如果$X_n\\sim N(0, 1+\\frac{1}{n})$，则：$X_n\\overset{D}{\\rightarrow} N(0,1)$</font>"
   ]
  },
  {
   "cell_type": "markdown",
   "id": "bd60586e",
   "metadata": {},
   "source": [
    "### I.2 依概率收敛(converge in probability)\n",
    "有随机变量序列$X_i, X_2, ..., X_n, ...$和另一个随机变量X，如果对任意$ε>0$，都有：$$\\lim_{n \\to \\infty}P(|X_n-X|>ε)=0$$则称$X_n$依概率收敛到X，记为：$$X_n\\overset{P}{\\rightarrow} X$$"
   ]
  },
  {
   "cell_type": "markdown",
   "id": "60a70ad1",
   "metadata": {},
   "source": [
    "<font color=orange>例：如果$X_n\\sim N(0, \\frac{1}{n})$，则：$X_n\\overset{P}{\\rightarrow} 0$</font>"
   ]
  },
  {
   "cell_type": "markdown",
   "id": "93c5419c",
   "metadata": {},
   "source": [
    "<font color=orange>例：如果$P(X_n=0)=1-\\frac{1}{n}, P(X_n=1)=\\frac{1}{n}$，则：$X_n\\overset{P}{\\rightarrow} 0$</font>"
   ]
  },
  {
   "cell_type": "markdown",
   "id": "f2717032",
   "metadata": {},
   "source": [
    "#### <font color=red>注：随机变量依概率收敛并不意味着其期望值存在，或者说它的期望值收敛到某一固定值。</font> \n",
    "例：如果$P(X_n=0)=1-\\frac{1}{n}, P(X_n=n^2)=\\frac{1}{n}$，则：$X_n\\overset{P}{\\rightarrow} 0$ \\\n",
    "<font color=green>但此时期望值不收敛：$E(X_n)=n \\to \\infty$</font>"
   ]
  },
  {
   "cell_type": "markdown",
   "id": "86538f1b",
   "metadata": {},
   "source": [
    "## I.3 几乎确定收敛(converge almost surely)\n",
    "有随机变量序列$X_i, X_2, ..., X_n, ...$和另一个随机变量X，如果: $$\n",
    "P(\\lim_{n \\to \\infty}X_n=X)=1\n",
    "$$则称$X_n$几乎确定收敛到X，记为：$$X_n\\overset{a.s.}{\\rightarrow} X$$"
   ]
  },
  {
   "cell_type": "markdown",
   "id": "a8fa2939",
   "metadata": {},
   "source": [
    "<font color=blue>**上面三种收敛的关系：\n",
    "几乎确定收敛强于依概率收敛，后者强于依分布收敛。也即：如果$X_n$几乎确定收敛到X，则其必然依概率收敛到X。如果$X_n$依概率收敛到X，则其必然一分部收敛到X。**</font>"
   ]
  },
  {
   "cell_type": "markdown",
   "id": "427da086",
   "metadata": {},
   "source": [
    "## II. 弱大数定律"
   ]
  },
  {
   "cell_type": "markdown",
   "id": "5e3166d2",
   "metadata": {},
   "source": [
    "### II.1 马尔科夫不等式\n",
    "X是非负随机变量，则对任意$\\epsilon > 0$，都有：$$\n",
    "P(X\\ge \\epsilon) \\le \\frac{E(X)}{\\epsilon}\n",
    "$$"
   ]
  },
  {
   "cell_type": "markdown",
   "id": "7b9082be",
   "metadata": {},
   "source": [
    "### II.2 切比雪夫不等式\n",
    "随机变量X的方差有限，则对任意$\\epsilon > 0$，都有：$$\n",
    "P(|X-E(X)|\\ge \\epsilon) \\le \\frac{Var(X)}{\\epsilon^2}\n",
    "$$\n",
    "<font color=grey>证明：用马尔科夫不等式</font>"
   ]
  },
  {
   "cell_type": "markdown",
   "id": "4857f6a3",
   "metadata": {},
   "source": [
    "### II.3 弱大数定律\n",
    "如果样本均值有限，且方差有限，则样本均值依概率收敛到总体均值：$$\n",
    "\\bar X\\overset{P}{\\rightarrow} \\mu, 其中\\mu=E(X)\n",
    "$$\n",
    "<font color=grey>证明：用切比雪夫不等式</font> \\\n",
    "$Var(\\bar X_n)=\\frac{\\sigma^2}{n}$，带入切比雪夫，$P(|\\bar X_n-\\mu|>t)\\le \\frac{\\sigma^2}{nt^2}$"
   ]
  },
  {
   "cell_type": "markdown",
   "id": "f8c97cce",
   "metadata": {},
   "source": [
    "## III. 中心极限定理"
   ]
  }
 ],
 "metadata": {
  "kernelspec": {
   "display_name": "Python 3 (ipykernel)",
   "language": "python",
   "name": "python3"
  },
  "language_info": {
   "codemirror_mode": {
    "name": "ipython",
    "version": 3
   },
   "file_extension": ".py",
   "mimetype": "text/x-python",
   "name": "python",
   "nbconvert_exporter": "python",
   "pygments_lexer": "ipython3",
   "version": "3.10.12"
  }
 },
 "nbformat": 4,
 "nbformat_minor": 5
}
