{
 "cells": [
  {
   "cell_type": "markdown",
   "id": "9edfd14d",
   "metadata": {},
   "source": [
    "# Bootstrap方法\n",
    "## I. Bootstrap sample方法的用法示例\n",
    "### I.1 一个引导案例\n",
    "实验室有100个学生，想统计他们每人每天要开多少次手机。只有30个学生自愿报名参加统计，安装了用于统计开屏次数的app。1天之后，用他们的数据计算得到平均开屏次数是228.06次。"
   ]
  },
  {
   "cell_type": "code",
   "execution_count": 1,
   "id": "21adf05a",
   "metadata": {
    "ExecuteTime": {
     "end_time": "2023-11-09T09:04:02.298045Z",
     "start_time": "2023-11-09T09:04:01.940270Z"
    }
   },
   "outputs": [
    {
     "name": "stdout",
     "output_type": "stream",
     "text": [
      "252.70 144.25\n"
     ]
    }
   ],
   "source": [
    "import numpy as np\n",
    "import matplotlib.pyplot as plt\n",
    "\n",
    "# 生成100个学生的总体数据\n",
    "np.random.seed(42)\n",
    "pickups = np.random.randint(0,500 , size=100)\n",
    "print(f\"{pickups.mean():.2f}\", f\"{pickups.std():.2f}\")"
   ]
  },
  {
   "cell_type": "code",
   "execution_count": 2,
   "id": "d3f8a258",
   "metadata": {
    "ExecuteTime": {
     "end_time": "2023-11-09T09:04:02.303871Z",
     "start_time": "2023-11-09T09:04:02.299885Z"
    }
   },
   "outputs": [
    {
     "name": "stdout",
     "output_type": "stream",
     "text": [
      "228.07\n",
      "30.48\n",
      "[168.31761045 287.81572289]\n"
     ]
    }
   ],
   "source": [
    "# 从总体中抽样30个\n",
    "n = 30\n",
    "sample = np.random.choice(pickups, size=n)\n",
    "\n",
    "# 计算sample mean,对总体均值做点估计\n",
    "sample_mean = sample.mean()\n",
    "print(f\"{sample_mean:.2f}\")\n",
    "\n",
    "# measure of accuracy：用sample mean的标准差来衡量   \n",
    "sample_std = np.std(sample, ddof=1)/np.sqrt(len(sample))\n",
    "print(f\"{sample_std:.2f}\")\n",
    "\n",
    "# 抽样数量达到n=30，已经可以用CLT，用正态分布算置信区间\n",
    "confidence_in = sample_mean + np.array([-1, 1]) * sample_std * 1.96\n",
    "print(f\"{confidence_in}\")"
   ]
  },
  {
   "cell_type": "markdown",
   "id": "3184c2d5",
   "metadata": {},
   "source": [
    "1. 上面案例中的估计量是样本均值$\\bar X_n$。在计算出样本均值后，衡量该估计量的准确性的常用指标：估计量的方差$Var(\\bar X_n)$和对应的总体统计量的置信区间都很好计算。\n",
    "2. 但很多时候the standard error of a estimate是很难直接计算的。比如当估计量是样本中位数的时候，就无法直接得到估计量的方差和置信区间。这时候一种很方便的方法是Bootstrap sample。\n",
    "2. 虽然可以用大数定律来得到估计量的置信区间。但实践中正态分布的假设并不成立。 ??? 怎么理解"
   ]
  },
  {
   "cell_type": "markdown",
   "id": "a2228ff5",
   "metadata": {},
   "source": [
    "### I.2 Empirical Bootstrap方法\n",
    "1. 定义：Empirical Bootstrap又称<font color=red>Efron's bootstrap，或nonparametric bootstrap</font>，是一种resampling method。具体方式是：independently sampling with replacement from an existing sample data with same sample size n, and performing inference among these resampled data. "
   ]
  },
  {
   "cell_type": "markdown",
   "id": "4e4335bc",
   "metadata": {},
   "source": [
    "2. Bootstrap sample过程 \\\n",
    "有抽样样本$\\{X_1, X_2, ..., X_n\\}$，用它做有放回抽样，每轮抽n个样本$\\{X^{*(k)}_1, X^{*(k)}_2, ..., X^{*(k)}_n\\}$，一共抽B轮，即$k=(1, 2, ..., B)$。得到的B个bootstrap sample sets: $$\\begin{align} \n",
    "& \\{X^{*(1)}_1, X^{*(1)}_2, ..., X^{*(1)}_n\\} \\\\\n",
    "& \\{X^{*(2)}_1, X^{*(2)}_2, ..., X^{*(2)}_n\\}\\\\\n",
    "& ...\\\\\n",
    "& \\{X^{*(B)}_1, X^{*(B)}_2, ..., X^{*(B)}_n\\} \n",
    "\\end{align}$$\n",
    "<img src=\"./pics/BootstrapSteps.png\" style=\"zoom:40%\">"
   ]
  },
  {
   "cell_type": "markdown",
   "id": "75eb0c29",
   "metadata": {},
   "source": [
    "3. 计算Bootstrap estimates \\\n",
    "以中位数为例：$M_n=median\\{X_1, X_2, ..., X_n\\}$为原样本中位数。\\\n",
    "从上面的bootstrap sample sets中可以得到：$$\\begin{align} \n",
    "& M^{*(1)}_n = median\\{X^{*(1)}_1, X^{*(1)}_2, ..., X^{*(1)}_n\\} \\\\\n",
    "& M^{*(2)}_n = median\\{X^{*(2)}_1, X^{*(2)}_2, ..., X^{*(2)}_n\\}\\\\\n",
    "& ...\\\\\n",
    "& M^{*(B)}_n = median\\{X^{*(B)}_1, X^{*(B)}_2, ..., X^{*(B)}_n\\} \n",
    "\\end{align}$$\n",
    "用他们可以计算各种Bootstrap estimates: \\\n",
    "(1) <font color=green>用$\\hat {Var}_B(M^*_n)$估计</font> <font color=blue>**$Var(M_n)$样本中位数的方差**</font>\n",
    "$$\n",
    "\\bar M^*_B=\\frac{1}{B} {\\textstyle \\sum_{k=1}^{B}}M^{*(k)}_n \\\\\n",
    "\\hat {Var}_B(M^*_n) = \\frac{1}{B-1} {\\textstyle \\sum_{k=1}^{B}} (M^{*(k)}_n-\\bar M^*_B)^2\n",
    "$$ \n",
    "$\\hat {Var}_B(M_n)$称为bootstrap estimate of the variance，也就是样本中位数方差的Bootstrap估计量。\\\n",
    "(2) <font color=green>用$\\hat {MSE}_B(M^*_n)$估计</font><font color=blue>**MSE：用样本中位数估总体中位数的MSE**</font>\n",
    "$$\\hat {MSE}_B(M^*_n) = \\frac{1}{B} {\\textstyle \\sum_{k=1}^{B}} (M^{*(k)}_n-M_n)^2\n",
    "$$\n",
    "$\\hat {MSE}_B(M^*_n)$称为bootstrap estimate of MSE，也就是样本中位数的MSE的Bootstrap估计量。\\\n",
    "(3) <font color=red>**总体中位数**</font><font color=green>的置信水平为$1-\\alpha$的置信区间为：</font>\n",
    "$$\\begin{align}\n",
    "& M_n \\pm z_{1-\\alpha/2}·\\sqrt{\\hat {Var}_B(M^*_n)}\\\\\n",
    "& z_{1-\\alpha/2}是标准正态分布的置信度为（1-\\alpha/2）的置信区间的边界\\end{align}\n",
    "$$ 该区间称为bootstrap confidence interval，也就是样本中位数的Bootstrap置信区间。"
   ]
  },
  {
   "cell_type": "markdown",
   "id": "14958ee6",
   "metadata": {},
   "source": [
    "### I.3 用Empirical Bootstrap处理样例中估计样本中位数的情况"
   ]
  },
  {
   "cell_type": "code",
   "execution_count": 3,
   "id": "cfb16f64",
   "metadata": {
    "ExecuteTime": {
     "end_time": "2023-11-09T09:04:02.318031Z",
     "start_time": "2023-11-09T09:04:02.305080Z"
    }
   },
   "outputs": [
    {
     "name": "stdout",
     "output_type": "stream",
     "text": [
      "190.5\n"
     ]
    }
   ],
   "source": [
    "# 计算样本中位数，因此作为总体总位数的估计量\n",
    "sample_median = np.median(sample)\n",
    "print(sample_median)"
   ]
  },
  {
   "cell_type": "code",
   "execution_count": 4,
   "id": "28849d26",
   "metadata": {
    "ExecuteTime": {
     "end_time": "2023-11-09T09:04:02.323352Z",
     "start_time": "2023-11-09T09:04:02.319634Z"
    }
   },
   "outputs": [],
   "source": [
    "B = 50\n",
    "bs_samples = np.zeros((B, n))\n",
    "# 完成B次Bootstrap sample\n",
    "for i in range(B):\n",
    "    bs_sample = np.random.choice(sample, size=n, replace=True)\n",
    "    bs_samples[i] = bs_sample"
   ]
  },
  {
   "cell_type": "code",
   "execution_count": 5,
   "id": "8af964cb",
   "metadata": {
    "ExecuteTime": {
     "end_time": "2023-11-09T09:04:02.331475Z",
     "start_time": "2023-11-09T09:04:02.324585Z"
    }
   },
   "outputs": [
    {
     "name": "stdout",
     "output_type": "stream",
     "text": [
      "5430.41\n",
      "74.44\n"
     ]
    }
   ],
   "source": [
    "# 计算每个Bootstrap sample的sample median，得到Bootstrap medians\n",
    "bs_medians = np.median(bs_samples, axis=1)\n",
    "\n",
    "# 衡量估计量的acc: 用Bootstrap medians的标准差作为样本中位数标准差的估计量\n",
    "var_sample_median = np.var(bs_medians)\n",
    "print(f\"{var_sample_median:.2f}\")\n",
    "\n",
    "# 衡量估计量的acc: 也可以用Bootstrap medians的标准差估计样本中位数的标准差\n",
    "std_bs_median = np.std(bs_medians, ddof=1) \n",
    "print(f\"{std_bs_median:.2f}\")"
   ]
  },
  {
   "cell_type": "code",
   "execution_count": 6,
   "id": "5b4b1650",
   "metadata": {
    "ExecuteTime": {
     "end_time": "2023-11-09T09:04:02.337665Z",
     "start_time": "2023-11-09T09:04:02.332652Z"
    }
   },
   "outputs": [
    {
     "name": "stdout",
     "output_type": "stream",
     "text": [
      "[ 44.59860656 336.40139344]\n"
     ]
    }
   ],
   "source": [
    "# 计算总体中位数的1-α置信区间\n",
    "confidence_in = sample_median + \\\n",
    "                np.array([-1, 1]) * std_bs_median * 1.96\n",
    "print(f\"{confidence_in}\")"
   ]
  },
  {
   "cell_type": "markdown",
   "id": "f8e1ada8",
   "metadata": {},
   "source": [
    "## II. Bootstrap estimates背后的统计原理\n",
    "#### 1.4.1 $\\hat F_n$是F(x)的EDF，也是Bootstrap sample对应的随机变量$X^*$的CDF\n",
    "1. 原样本${X_1, X_2, ..., X_n}$对应的F(x)的估计量$\\hat F_n(x)=\\frac{1}{n} {\\textstyle \\sum_{i=1}^{n}}I(X_i\\le x) $，它是基于原样本的EDF。\n",
    "2. <font color=blue>用原样本${X_1, X_2, ..., X_n}$做Bootstrap sampling，每次得到的值记为随机变量$X^*$的取值。那么$X^*$本质上是以${X_1, X_2, ..., X_n}$为取值空间，每个事件概率$P(X^*=X_i)=\\frac{1}{n}$的随机变量。此时，$\\hat F_n(x)=\\frac{1}{n} {\\textstyle \\sum_{i=1}^{n}}I(X_i\\le x) $是$X^*$的CDF。</font>\\\n",
    "如果抽n个$X^*$，那么就有$$\n",
    "X^*_1, X^*_2, ..., X^*_n\\sim \\hat F_n\n",
    "$$\n",
    "如果一共抽B轮，每轮抽n次，则有：$$\\begin{align} \n",
    "& X^{*(1)}_1, X^{*(1)}_2, ..., X^{*(1)}_n \\ \\sim \\hat F_n \\\\\n",
    "& X^{*(2)}_1, X^{*(2)}_2, ..., X^{*(2)}_n \\ \\sim \\hat F_n \\\\\n",
    "& ...\\\\\n",
    "& X^{*(B)}_1, X^{*(B)}_2, ..., X^{*(B)}_n \\ \\sim \\hat F_n \n",
    "\\end{align}$$\n",
    "<font color=green>表示：每个Bootstrap sample set都是用分布$\\hat F_n$抽样的一组IID样本</font>"
   ]
  },
  {
   "cell_type": "markdown",
   "id": "74755993",
   "metadata": {},
   "source": [
    "#### 1.4.2 统计量的分布函数：中位数为例\n",
    "1. 基于原样本${X_1, X_2, ..., X_n}$的统计量$M_n$的分布函数：$F_{M_n}(x)=\\psi (x;F, n)$ \\\n",
    "原分布是F(x)，原有的抽样样本$X_1, X_2, ..., X_n\\sim F$。这些样本的中位数$M_n$的分布取决于F和n，因此可以将样本中位数的分布标记为：$$F_{M_n}(x)=\\psi (x;F, n)$$"
   ]
  },
  {
   "cell_type": "markdown",
   "id": "57ed8d2b",
   "metadata": {},
   "source": [
    "2. Bootstrap估计量$M^{*(k)}_n$的分布函数：$M^{*}_n=\\psi (x;\\hat F_n,n)$，<font color=red>这里$\\hat F_n$是$M^{*}_n$的CDF</font>。 \\\n",
    "比如Bootstrap median: $$\n",
    "M^{*(k)}_n = median\\{X^{*(k)}_1, X^{*(k)}_2, ..., X^{*(k)}_n\\}\\\\\n",
    "F_{M^{*(k)}_n}(x) = \\psi (x;\\hat F_n,n)\n",
    "$$因为每一组Bootstrap sample都是从相同的分布$\\hat F_n$中抽样得到的，所以：$$\n",
    "\\psi (x;\\hat F_n,n)=F_{M^{*(1)}_n}(x)=F_{M^{*(2)}_n}(x)=...=F_{M^{*(B)}_n}(x)\n",
    "$$"
   ]
  },
  {
   "cell_type": "markdown",
   "id": "bf4a012d",
   "metadata": {},
   "source": [
    "#### 1.4.3 估计量的性质分析\n",
    "1. Bootstrap estimate的CDF与对应的population quantity的CDF相似 \\\n",
    "因为$\\hat F_n \\overset{P}{\\rightarrow} F$，所以当n很大时，$\\hat F_n$与F相似。如果$\\psi$相对F是smooth的，那么此时$\\psi (x;\\hat F_n,n)$也会与$\\psi (x;F, n)$很相似。\\\n",
    "根据收敛性质：$$ \\begin{align}\n",
    "& \\because \\hat F_n \\overset{P}{\\rightarrow} F ,\\ \\ \\psi\\ is\\ smooth\\\\\n",
    "& \\therefore F_{M^{*}_n}(x)=\\psi (x;\\hat F_n,n) \\overset{P}{\\rightarrow} \\psi (x;F, n) = F_{M_n}(x)\n",
    "\\end{align}$$\n",
    "<font color=orange>这意味着：Bootstrap median $M^{*}_n$的CDF与sample median $M_n$的CDF相似。</font> \\\n",
    "<font color=green>一般化为：Bootstrap estimate的CDF与sample estimate的CDF相似。</font>"
   ]
  },
  {
   "cell_type": "markdown",
   "id": "1a86d8f7",
   "metadata": {},
   "source": [
    "2. 当估计量的CDF与对应的总体特征(population quantity)的CDF相似时，可以扩展出新的性质，比如：\n",
    "<font color=blue>$$\\hat {Var}_B(M^*_n) \\approx Var(M^{*}_n|\\hat F_n)\\approx Var(M_n| F) $$</font>\n",
    "（1）取$Var(M^*_n|\\hat F_n)$表示$Var(M^{*}_n)$，加条件是强调它是以$\\hat F_n$为CDF的$M^{*}_n$的<font color=red>**总体方差**</font>。 \\\n",
    "（2）取$Var(M_n|F)$表示$Var(M_n)$，是以F为CDF的<font color=red>**总体方差**</font>。 \\\n",
    "（3）取$\\hat {Var}_B(M^*_n)= \\frac{1}{B-1} {\\textstyle \\sum_{k=1}^{B}} (M^{*(k)}_n-\\bar M^*_B)^2$，表示$M^{*}_n|\\hat F_n$对应的B轮Bootstrap抽样得到的<font color=green>**样本方差**</font>。"
   ]
  },
  {
   "cell_type": "markdown",
   "id": "4efdb532",
   "metadata": {},
   "source": [
    "3. 收敛性证明：\\\n",
    "(1) Bootstrap median的CDF与sample median的CDF相似，所以他们的方差相似\\\n",
    "$\\therefore Var(M^{*}_n|\\hat F) \\approx Var(M_n| F)$<font color=red>——这是两个总体的方差相似</font> \\\n",
    "(2) B可以人为设置为很大的值，B很大时，样本方差和总体方差相似。因为<font color=green>这里$\\hat F_n$是$M^{*}_n$的CDF；B越大，抽样轮次越多，样本方差就会逼近总体方差。</font> \\\n",
    "$\\therefore \\hat {Var}_B(M^*_n) \\approx Var(M^{*}_n|\\hat F) $ <font color=red>——这是样本方差与总体方差相似</font> \\\n",
    "\n",
    "<font color=blue>**除了variance之外，分位数，偏度、峰度等统计量都有同样的性质。但也不是所有的统计量都适用。**</font>"
   ]
  },
  {
   "cell_type": "markdown",
   "id": "8a1127b7",
   "metadata": {},
   "source": [
    "4. 上述特征对$M_n=min\\{X_1, X_2, ..., X_n\\}$无效。 \\\n",
    "分析： \\\n",
    "假设${X_1, X_2, ..., X_n} \\sim Uni[0, 1]$，有n个样本$\\{X_1, X_2, ..., X_n\\}$，$M_n=min{X_1, X_2, ..., X_n}$是样本的最小值。\\\n",
    "分析：\\\n",
    "（1）均匀分布的样本最小值服从指数分布。即：$$n·M_n \\overset{D}{\\rightarrow} Exp(1)$$Exp(1)是参数为1的指数分布。也因此，$M_n$的分布是连续的。\\\n",
    "（2）用原样本做Bootstrap sample。\\\n",
    "· 得到$M^{*}_n$是Bootstrap sample的最小值，即$M^{*}_n=min{X^*_1, X^*_2, ..., X^*_n}$。\\\n",
    "· 因为$P(X^*_i=M_n)=\\frac{1}{n}$，因此：$$\n",
    "P(none\\ of X^*_1, X^*_2, ..., X^*_n\\ select\\ M_n)=(1-\\frac{1}{n})^n \\approx e^{-1} \\\\\n",
    "P(one\\ of\\ X^*_1, X^*_2, ..., X^*_n select\\ M_n)\\approx 1-e^{-1} \\\\\n",
    "即，P(M^*_n=M_n) \\approx 1-e^{-1}\n",
    "$$可见，$M^*_n$有较大的概率直接取到$M_n$，这也就意味着，$M^*_n$的分布不是指数分布，也就和$M_n$的分布完全不同。"
   ]
  },
  {
   "cell_type": "markdown",
   "id": "f049189a",
   "metadata": {},
   "source": [
    "## II. Bootstrap and Statistical Functionals"
   ]
  },
  {
   "cell_type": "markdown",
   "id": "3e9882ae",
   "metadata": {},
   "source": [
    "### II.1 Bootstrap EDF: $\\hat F^*_n=\\frac{1}{n} {\\textstyle \\sum_{i=1}^{n}}I(X^*_n\\le x) $\n",
    "**定义：Bootstrap sample的EDF称为Bootstrap EDF**\n",
    "<font color=orange>$$\n",
    "\\begin{align} \n",
    "& F(x) &\\overset{抽样}{\\rightarrow} \\underline{\\{X_1, ..., X_n\\}} & \\Longrightarrow &\\underline{\\hat{F}_n(x)=\\frac{1}{n} {\\textstyle \\sum_{i=1}^{n}}I(X_n\\le x) }\\\\\n",
    "& & sample & &EDF  \\\\\n",
    "& \\{X_1, X_2, ..., X_n\\} &\\overset{抽样}{\\rightarrow} \\underline{\\{X^*_1, ..., X^*_n\\}} & \\Longrightarrow &\\underline{\\hat F^*_n(x)=\\frac{1}{n} {\\textstyle \\sum_{i=1}^{n}}I(X^*_n\\le x) }\\\\ \n",
    "& & bootstrap\\ sample & & Bootstrap\\ EDF\\\\\n",
    "\\end{align}$$</font>"
   ]
  },
  {
   "cell_type": "markdown",
   "id": "0325b7af",
   "metadata": {},
   "source": [
    "### II.2 用$\\hat F^*_n$作为input的Statistical functional做参数估计"
   ]
  },
  {
   "cell_type": "markdown",
   "id": "d2d33ab5",
   "metadata": {},
   "source": [
    "#### II.2.1 估计statistical functional的方式：\n",
    "取statistical functional为$\\theta=T_{target}$，用plug-in方法做估计：\n",
    "1. 第一种plug-in estimateor：plug-in的对象是EDF\n",
    "$$\\hat {\\theta}_n=T_{target}(\\hat{F}_n)$$\n",
    "2. 第二种plug-in estimateor：plug-in的对象是Bootstrap EDF\n",
    "$$\\hat {\\theta}^*_n=T_{target}(\\hat{F}^*_n)$$"
   ]
  },
  {
   "cell_type": "markdown",
   "id": "b7f0cb85",
   "metadata": {},
   "source": [
    "#### II.2.2 两种plug-in estimator的一致性和方差分析\n",
    "· 假设要估计的对象$\\theta$是总体的统计量：$\\theta = S(X；F)$，其中$X\\sim F(x)$ \\\n",
    "· 有n个样本$\\{X_1, ..., X_n\\}$，样本统计量$S_n(X_1, X_2, ..., X_n)$是样本的函数，sample estimator是$\\hat \\theta_n = S_n(X_1, X_2, ..., X_n)$ \\\n",
    "· 做B轮Bootstrap sample，得到B个Bootstrap estimates：\n",
    "$$\\begin{align} \n",
    "& \\hat {\\theta^*}^{(1)}_n = S_n(X^{*(1)}_1, X^{*(1)}_2, ..., X^{*(1)}_n) \\\\\n",
    "& \\hat {\\theta^*}^{(2)}_n = S_n(X^{*(2)}_1, X^{*(2)}_2, ..., X^{*(2)}_n)\\\\\n",
    "& ...\\\\\n",
    "& \\hat {\\theta^*}^{(B)}_n = S_n(X^{*(B)}_1, X^{*(B)}_2, ..., X^{*(B)}_n) \n",
    "\\end{align}$$"
   ]
  },
  {
   "cell_type": "markdown",
   "id": "8aec01cf",
   "metadata": {},
   "source": [
    "**估计量的方差**：可以用以上Bootstrap估计量$\\hat{\\theta^*}_n$的方差$\\hat {Var}_B(\\hat{\\theta^*}_n)$来作为样本估计量$\\hat \\theta_n$的方差$Var(\\hat \\theta_n)$的估计量$$\\begin{align}\n",
    "\\bar {\\hat {\\theta ^*}}_B &  =\\frac{1}{B} {\\textstyle \\sum_{k=1}^{B}}\\hat{\\theta ^*}^{(k)}_n \\\\\n",
    "\\hat {Var}_B(\\hat{\\theta^*}_n)& = \\frac{1}{B-1} {\\textstyle \\sum_{k=1}^{B}} (\\hat{\\theta^*}^{(k)}_n-\\bar {\\hat{\\theta ^*}}_B)^2\n",
    "\\end{align} $$"
   ]
  },
  {
   "cell_type": "markdown",
   "id": "6d279381",
   "metadata": {},
   "source": [
    "前文对中位数方差的分析有结论：<font color=orange>$$\\hat {Var}_B(M^*_n) \\approx Var(M^{*}_n|\\hat F_n)\\approx Var(M_n| F) $$</font>\n",
    "这里也可以证明类似关系：<font color=blue>$$\n",
    "\\hat {Var}_B(\\hat {\\theta^*}_n) \\approx Var(\\hat{\\theta^*}_n|\\hat F_n)\\approx Var(\\hat \\theta_n|F)\n",
    "$$</font>"
   ]
  },
  {
   "cell_type": "markdown",
   "id": "c2da88c7",
   "metadata": {},
   "source": [
    "1. 证明：$\n",
    "\\hat {Var}_B(\\hat {\\theta^*}_n) \\approx Var(\\hat{\\theta^*}_n|\\hat F_n)$ \\\n",
    "B可以人为设置为很大的值，B很大时，样本方差和总体方差相似。因为<font color=green>这里$\\hat F_n$是Bootstrap sample所使用的CDF；B越大，抽样轮次越多，样本方差就会逼近总体方差。</font> ？？？找数学定理依据"
   ]
  },
  {
   "cell_type": "markdown",
   "id": "98eac610",
   "metadata": {},
   "source": [
    "2. 证明：$Var(\\hat{\\theta^*}_n|\\hat F_n)\\approx Var(\\hat \\theta_n|F)$ \\\n",
    "符号说明：\\\n",
    "(1)有总体统计量$\\theta = T_\\theta (F)$，对应的样本统计量是$\\hat{\\theta}_n=T_\\theta(\\hat F_n)$。 \\\n",
    "(2)样本统计量的方差$Var(\\hat{\\theta}_n)=Var(T_\\theta(\\hat F_n))$"
   ]
  },
  {
   "cell_type": "markdown",
   "id": "64989e8a",
   "metadata": {},
   "source": [
    "样本统计量$\\hat \\theta$的方差完全由原分布F(x)和样本数量n决定。因此，可以用函数$\\psi(F,n)$"
   ]
  },
  {
   "cell_type": "markdown",
   "id": "76b9d537",
   "metadata": {},
   "source": [
    "\n",
    " \\\\\n",
    "通常，Var(T_\\theta(\\hat F_n)) \\approx \\frac{1}{n}Var(T_\\theta(\\hat F_1))=\\frac{1}{n}Var(T_\\theta(F))\n",
    "$$"
   ]
  },
  {
   "cell_type": "markdown",
   "id": "6071d74d",
   "metadata": {},
   "source": []
  },
  {
   "cell_type": "markdown",
   "id": "c0efc985",
   "metadata": {},
   "source": []
  },
  {
   "cell_type": "markdown",
   "id": "979b146c",
   "metadata": {},
   "source": [
    "因此，Bootstrap variance是variance of estimator $\\hat \\theta_n$的较好估计。"
   ]
  },
  {
   "cell_type": "markdown",
   "id": "b179a4bb",
   "metadata": {},
   "source": [
    "### II.3 估计准确性"
   ]
  },
  {
   "cell_type": "markdown",
   "id": "5d9a4848",
   "metadata": {},
   "source": []
  }
 ],
 "metadata": {
  "kernelspec": {
   "display_name": "Python 3 (ipykernel)",
   "language": "python",
   "name": "python3"
  },
  "language_info": {
   "codemirror_mode": {
    "name": "ipython",
    "version": 3
   },
   "file_extension": ".py",
   "mimetype": "text/x-python",
   "name": "python",
   "nbconvert_exporter": "python",
   "pygments_lexer": "ipython3",
   "version": "3.10.12"
  }
 },
 "nbformat": 4,
 "nbformat_minor": 5
}
