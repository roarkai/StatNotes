{
 "cells": [
  {
   "cell_type": "markdown",
   "id": "1f45650e",
   "metadata": {},
   "source": [
    "# Convergence Theory\n",
    "参考：Ch5 in 'all of statistics'"
   ]
  },
  {
   "cell_type": "markdown",
   "id": "f531e1c9",
   "metadata": {},
   "source": [
    "## I. 几个基础的收敛性定义\n",
    "收敛性与统计量的一致性（consistency）有较大关系。如果估计量依概率收敛到它对应的总体特征(population quantity),那么该估计量就是一致的(statistical consistent)。\\\n",
    "常见用途：用于构建估计量的置信区间和在假设检验中使用。"
   ]
  },
  {
   "cell_type": "markdown",
   "id": "fc3e3425",
   "metadata": {},
   "source": [
    "### I.1 依分布收敛(converge in distribution，也称converge weakly, converge in law)\n",
    "有随机变量序列$X_i, X_2, ..., X_n, ...$和另一个随机变量X，他们的累积分布函数CDF分别为$F_1, F_2, ..., F_n, ...$和$F$。如果<font color=red>对所有F(X)在X点处连续的X</font>，都满足：$$\\lim_{n \\to \\infty}F_n(x)=F(x)$$则称$F_n$依分布收敛到F，记为：$$X_n\\overset{D}{\\rightarrow} X$$\n",
    "如果随机变量X是常数，也即$P(X=c)=1$，则此时可以记作：$$X_n\\overset{D}{\\rightarrow} c$$"
   ]
  },
  {
   "cell_type": "markdown",
   "id": "7971d2ee",
   "metadata": {},
   "source": [
    "**理解定义中的连续条件：** \\\n",
    "<font color=orange>例：如果$X_n\\sim N(0, \\frac{1}{n})$，则：$X_n\\overset{D}{\\rightarrow} 0$</font>"
   ]
  },
  {
   "cell_type": "markdown",
   "id": "fe001e87",
   "metadata": {},
   "source": [
    "证明：\\\n",
    "取F为随机变量X的分布，且P(X=0)=1。即： $$\n",
    "\\left\\{\\begin{matrix}\n",
    "t \\ge  0,  & F(t)=1  \\\\\n",
    "t < 0,  & F(t)=0 \\\\\n",
    "\\end{matrix}\\right.\n",
    "$$\n",
    "\\\n",
    "已知$\\sqrt nX_n\\sim N(0,1)$，所以有：$F_n(t) =P(X_n<t)=P(\\sqrt n X_n<\\sqrt nt) = \\Phi(\\sqrt nt)$\n",
    "$$\n",
    "\\left\\{\\begin{matrix}\n",
    "t < 0,  & \\lim_{n \\to \\infty} F_n(t)= \\lim_{n \\to \\infty} \\Phi(\\sqrt nt) =\\Phi(-\\infty)=0  \\\\\n",
    "t > 0,  & \\lim_{n \\to \\infty} F_n(t)= \\lim_{n \\to \\infty} \\Phi(\\sqrt nt) =\\Phi(\\infty)=1 \\\\\n",
    "t = 0,  & F_n(0)=\\frac{1}{2}\n",
    "\\end{matrix}\\right.\n",
    "$$\n",
    "\\\n",
    "可见当$t\\ne 0$时，$\\lim_{n \\to \\infty} F_n(t)=F(t)$ \\\n",
    "但是当$t=0$时，$F(0)=1, \\therefore F_n(0)\\ne F(0)$ \\\n",
    "但是从定义来看，F在0点处不连续，所以从定义上看，满足在所有对F(X)连续的点都有：$\\lim_{n \\to \\infty} F_n(t)=F(t)$，因此可以得出结论：$X_n\\overset{D}{\\rightarrow} X$，加上此时P(X=0)=1，因此$X_n\\overset{D}{\\rightarrow} 0$"
   ]
  },
  {
   "cell_type": "markdown",
   "id": "08c78d99",
   "metadata": {},
   "source": [
    "<font color=orange>例：如果$X_n\\sim N(0, 1+\\frac{1}{n})$，则：$X_n\\overset{D}{\\rightarrow} N(0,1)$</font>"
   ]
  },
  {
   "cell_type": "markdown",
   "id": "5a259492",
   "metadata": {},
   "source": [
    "### I.2 依概率收敛(converge in probability)\n",
    "有随机变量序列$X_i, X_2, ..., X_n, ...$和另一个随机变量X，如果对任意$ε>0$，都有：$$\\lim_{n \\to \\infty}P(|X_n-X|>ε)=0$$则称$X_n$依概率收敛到X，记为：$$X_n\\overset{P}{\\rightarrow} X$$\n",
    "如果随机变量X是常数，也即$P(X=c)=1$，则此时可以记作：$$X_n\\overset{P}{\\rightarrow} c$$"
   ]
  },
  {
   "cell_type": "markdown",
   "id": "b676c119",
   "metadata": {},
   "source": [
    "<font color=orange>例：如果$X_n\\sim N(0, \\frac{1}{n})$，则：$X_n\\overset{P}{\\rightarrow} 0$</font> \\\n",
    "证明： \\\n",
    "对任意$\\epsilon >0$，使用马尔科夫不等式：$$\n",
    "P(|X_n| > \\epsilon) = P(|X_n|^2>\\epsilon^2) \\le \\frac{E(X_n^2)}{\\epsilon^2}=\\frac{1}{\\epsilon^2}*\\frac{1}{n} \\to 0\n",
    "$$"
   ]
  },
  {
   "cell_type": "markdown",
   "id": "9207d79a",
   "metadata": {},
   "source": [
    "<font color=orange>例：如果$P(X_n=0)=1-\\frac{1}{n}, P(X_n=1)=\\frac{1}{n}$，则：$X_n\\overset{P}{\\rightarrow} 0$</font>"
   ]
  },
  {
   "cell_type": "markdown",
   "id": "883fba5f",
   "metadata": {},
   "source": [
    "<font color=red>**注：随机变量依概率收敛并不意味着其期望值存在，或者说它的期望值收敛到某一固定值。**</font> \n",
    "例：如果$P(X_n=0)=1-\\frac{1}{n}, P(X_n=n^2)=\\frac{1}{n}$，则：$X_n\\overset{P}{\\rightarrow} 0$ \\\n",
    "<font color=green>但此时期望值不收敛：$E(X_n)=n \\to \\infty$</font>"
   ]
  },
  {
   "cell_type": "markdown",
   "id": "c151ec57",
   "metadata": {},
   "source": [
    "## I.3 几乎确定收敛(converge almost surely)\n",
    "有随机变量序列$X_i, X_2, ..., X_n, ...$和另一个随机变量X，如果: $$\n",
    "P(\\lim_{n \\to \\infty}X_n=X)=1\n",
    "$$则称$X_n$几乎确定收敛到X，记为：$$X_n\\overset{a.s.}{\\rightarrow} X$$"
   ]
  },
  {
   "cell_type": "markdown",
   "id": "8b2113f3",
   "metadata": {},
   "source": [
    "## I.4 converge in quadratic mean\n",
    "如果但$n \\to \\infty$时，$E(X_n-X)^2 \\to 0$，则称Xn converges to X in quadratic mean，记为：$$X_n \\overset{qm}{\\rightarrow} X$$"
   ]
  },
  {
   "cell_type": "markdown",
   "id": "125ee4cd",
   "metadata": {},
   "source": [
    "## I.5 不同收敛的关系：\n",
    "1. 强弱关系：\n",
    "$$\n",
    "\\begin{align} \n",
    "X_n \\overset{a.s.}{\\rightarrow} X\\ 可推：& \\ X_n \\overset{P}{\\rightarrow} X \\\\\n",
    "X_n \\overset{qm}{\\rightarrow} X\\ 可推：& \\ X_n \\overset{P}{\\rightarrow} X \\\\\n",
    "X_n \\overset{P}{\\rightarrow} X\\ 可推： &\\  X_n \\overset{D}{\\rightarrow} X \\\\\n",
    "X_n \\overset{D}{\\rightarrow} X, and P(X=c)=1\\ 可推：& \\  X_n \\overset{P}{\\rightarrow} X \\\\\n",
    "\\end{align}\n",
    "$$"
   ]
  },
  {
   "cell_type": "markdown",
   "id": "611629b0",
   "metadata": {},
   "source": [
    "2. 复合随机变量的收敛特征：\n",
    "假如：$X_n, Y_n, X, Y$是随机变量，g是连续函数：\\\n",
    "\n",
    "$$\n",
    "\\begin{align} \n",
    "如果X_n &\\overset{P}{\\rightarrow} X，且Y_n \\overset{P}{\\rightarrow} Y,则X_n+Y_n \\overset{P}{\\rightarrow} X+Y \\\\\n",
    "如果X_n &\\overset{qm}{\\rightarrow} X，且Y_n \\overset{qm}{\\rightarrow} Y,则X_n+Y_n \\overset{qm}{\\rightarrow} X+Y \\\\\n",
    "如果X_n &\\overset{D}{\\rightarrow} X，且Y_n \\overset{D}{\\rightarrow}c,则X_n+Y_n \\overset{P}{\\rightarrow} X+c \\\\\n",
    "如果X_n &\\overset{P}{\\rightarrow} X，且Y_n \\overset{P}{\\rightarrow} Y,则X_nY_n \\overset{P}{\\rightarrow} XY \\\\\n",
    "如果X_n &\\overset{D}{\\rightarrow} X，且Y_n \\overset{D}{\\rightarrow}c,则X_nY_n \\overset{D}{\\rightarrow} cX \\\\\n",
    "如果X_n &\\overset{P}{\\rightarrow} X，则g(X_n)\\overset{P}{\\rightarrow} g(X) \\\\\n",
    "如果X_n &\\overset{D}{\\rightarrow} X,则g(X_n)\\overset{D}{\\rightarrow} g(X)\n",
    "\\end{align}\n",
    "$$"
   ]
  },
  {
   "cell_type": "markdown",
   "id": "28affe1a",
   "metadata": {},
   "source": [
    "## II. 大数定律"
   ]
  },
  {
   "cell_type": "markdown",
   "id": "e4ff46a9",
   "metadata": {},
   "source": [
    "### II.1 马尔科夫不等式\n",
    "X是非负随机变量，则对任意$\\epsilon > 0$，都有：$$\n",
    "P(X\\ge \\epsilon) \\le \\frac{E(X)}{\\epsilon}\n",
    "$$"
   ]
  },
  {
   "cell_type": "markdown",
   "id": "e4dfbfad",
   "metadata": {},
   "source": [
    "### II.2 切比雪夫不等式\n",
    "随机变量X的方差有限，则对任意$\\epsilon > 0$，都有：$$\n",
    "P(|X-E(X)|\\ge \\epsilon) \\le \\frac{Var(X)}{\\epsilon^2}\n",
    "$$\n",
    "<font color=grey>证明：用马尔科夫不等式</font> \\\n",
    "取$Y=(X - E(X))^2$，则由马尔科夫不等式有:$$\n",
    "\\begin{align} \n",
    " P(Y\\ge \\epsilon^2) & \\le \\frac{E(Y)}{\\epsilon^2}，直接展开可得：\\\\ \n",
    "P((X-E(X))^2|\\ge \\epsilon^2)  & \\le \\frac{Var(X)}{\\epsilon^2}，也即：\\\\\n",
    "P(|X-E(X)|\\ge \\epsilon)  & \\le \\frac{Var(X)}{\\epsilon^2}\n",
    "\\end{align}\n",
    "$$\n"
   ]
  },
  {
   "cell_type": "markdown",
   "id": "31ea9a94",
   "metadata": {},
   "source": [
    "### II.3 Hoeffding's inequality和Berry-Esseen inequality\n",
    "<font color=orange>**出发点**：如果限制随机变量的取值范围，可以进一步缩小切比雪夫不等式估计的范围</font> \\\n",
    "1. Hoeffding's inequality \\\n",
    "随机变量序列$X_i, X_2, ..., X_n, ...$独立同分布，如果$0\\le X \\le 1$，则对$\\epsilon > 0$，都有：$$\n",
    "P(|\\bar X_n -E(\\bar X_n)| \\ge \\epsilon) \\le 2e^{-2n\\epsilon^2}\n",
    "$$\n",
    "2. Berry-Esseen inequality \\\n",
    "如果$E|X|^3<\\infty$，则:$$\n",
    "\\underset{z}{sup}|P(Z_n\\le z)-\\Phi(z)|\\le \\frac{33}{4}\\frac{E|X-\\mu|^3}{\\sqrt n \\sigma^3}\n",
    "$$"
   ]
  },
  {
   "cell_type": "markdown",
   "id": "37cac2ef",
   "metadata": {},
   "source": [
    "### II.4 弱大数定律\n",
    "描述：如果样本均值有限(且方差有限)，则样本均值依概率收敛到总体期望值。\\\n",
    "定理：随机变量序列$X_i, X_2, ..., X_n, ...$独立同分布，$E(X_i)=\\mu<\\infty, Var(X_i)=\\sigma^2$，则对任意$\\epsilon > 0$，都有：$$\n",
    "\\lim_{n \\to \\infty}P(|\\bar X-\\mu|> \\epsilon)，即： \\\\\n",
    "\\bar X\\overset{P}{\\rightarrow} \\mu\n",
    "$$\n",
    "<font color=grey>证明：用切比雪夫不等式</font> \\\n",
    "$Var(\\bar X_n)=\\frac{\\sigma^2}{n}$，带入切比雪夫，$P(|\\bar X_n-\\mu|>\\epsilon)\\le \\frac{\\sigma^2}{n \\epsilon^2}$ \\\n",
    "<font color=red>注:可以放开方差有限的条件，但是证明会相对复杂一点。</font>"
   ]
  },
  {
   "cell_type": "markdown",
   "id": "8ef9697e",
   "metadata": {},
   "source": [
    "### II.5 强大数定律\n",
    "描述：如果样本均值有限，则样本均值几乎确定收敛到总体期望值。\\\n",
    "定理：随机变量序列$X_i, X_2, ..., X_n, ...$独立同分布，$E(X_i)=\\mu<\\infty$，则:$$\\bar X\\overset{a.s.}{\\rightarrow} \\mu$$"
   ]
  },
  {
   "cell_type": "markdown",
   "id": "912dc1e5",
   "metadata": {},
   "source": [
    "## III. 中心极限定理（CLT, central limit theorem）\n",
    "描述：如果随机变量的均值存在，方差有限，则样本均值依分布收敛到正态分布。\\\n",
    "定理：随机变量序列$X_i, X_2, ..., X_n, ...$独立同分布，$E(X_i)=\\mu, Var(X_i)=\\sigma^2<\\infty$，则:$$\n",
    " (\\frac{\\bar X_n - \\mu}{\\sigma/\\sqrt n}) \\overset{D}{\\rightarrow} N(0, 1)\n",
    "$$\n",
    "<font color=grey>证明：用矩生成函数</font>"
   ]
  },
  {
   "cell_type": "markdown",
   "id": "bee334c6",
   "metadata": {},
   "source": []
  },
  {
   "cell_type": "markdown",
   "id": "a59b9223",
   "metadata": {},
   "source": []
  },
  {
   "cell_type": "markdown",
   "id": "6f763baf",
   "metadata": {},
   "source": []
  },
  {
   "cell_type": "markdown",
   "id": "9e999e37",
   "metadata": {},
   "source": []
  },
  {
   "cell_type": "markdown",
   "id": "2b0e9ace",
   "metadata": {},
   "source": []
  },
  {
   "cell_type": "markdown",
   "id": "e8dabda0",
   "metadata": {},
   "source": []
  }
 ],
 "metadata": {
  "kernelspec": {
   "display_name": "Python 3 (ipykernel)",
   "language": "python",
   "name": "python3"
  },
  "language_info": {
   "codemirror_mode": {
    "name": "ipython",
    "version": 3
   },
   "file_extension": ".py",
   "mimetype": "text/x-python",
   "name": "python",
   "nbconvert_exporter": "python",
   "pygments_lexer": "ipython3",
   "version": "3.10.12"
  }
 },
 "nbformat": 4,
 "nbformat_minor": 5
}
