{
 "cells": [
  {
   "cell_type": "markdown",
   "id": "9edfd14d",
   "metadata": {},
   "source": [
    "# Bootstrap方法\n",
    "## II. 用Bootstrap estimate估计样本统计量的性质"
   ]
  },
  {
   "cell_type": "markdown",
   "id": "c45f4e16",
   "metadata": {},
   "source": [
    "### II.1 Bootstrap statistics的分布\n",
    "#### II.1.1 $\\hat F_n$是Bootstrap sample对应的随机变量$X^*$的CDF\n",
    "1. 原样本${X_1, X_2, ..., X_n}$对应的F(x)的估计量$\\hat F_n(x)=\\frac{1}{n} {\\textstyle \\sum_{i=1}^{n}}I(X_i\\le x) $，它是基于原样本的EDF。\n",
    "2. <font color=blue>用原样本${X_1, X_2, ..., X_n}$做Bootstrap sampling，每次得到的值记为随机变量$X^*$的取值。那么$X^*$本质上是以${X_1, X_2, ..., X_n}$为取值空间，每个事件概率$P(X^*=X_i)=\\frac{1}{n}$的随机变量。此时，$\\hat F_n(x)=\\frac{1}{n} {\\textstyle \\sum_{i=1}^{n}}I(X_i\\le x) $是$X^*$的CDF。</font>\\\n",
    "如果抽n个$X^*$，那么就有$$\n",
    "X^*_1, X^*_2, ..., X^*_n\\sim \\hat F_n\n",
    "$$\n",
    "如果一共抽B轮，每轮抽n次，则有：$$\\begin{align} \n",
    "& X^{*(1)}_1, X^{*(1)}_2, ..., X^{*(1)}_n \\ \\sim \\hat F_n \\\\\n",
    "& X^{*(2)}_1, X^{*(2)}_2, ..., X^{*(2)}_n \\ \\sim \\hat F_n \\\\\n",
    "& ...\\\\\n",
    "& X^{*(B)}_1, X^{*(B)}_2, ..., X^{*(B)}_n \\ \\sim \\hat F_n \n",
    "\\end{align}$$\n",
    "<font color=green>表示：每个Bootstrap sample set都是用分布$\\hat F_n$抽样的一组IID样本</font>"
   ]
  },
  {
   "cell_type": "markdown",
   "id": "74755993",
   "metadata": {},
   "source": [
    "#### II.1.2 Bootstrap statistics的分布函数\n",
    "1. 基于原样本${X_1, X_2, ..., X_n}$的统计量$\\theta_n$的分布函数是$F_{\\theta_n}(x)=\\psi (x;F, n)$ \\\n",
    "说明： \\\n",
    "· 原分布是F(x)，原有的抽样样本$X_1, X_2, ..., X_n\\sim F$。\\\n",
    "· 所以基于$X_1, X_2, ..., X_n$得到的样本统计量$\\theta_n$的分布取决于F和n，因此可以将其分布记为$$F_{\\theta_n}(x)=\\psi (x;F, n)$$\n",
    "· 以样本中位数为例，其分布可以记为：$$F_{M_n}(x)=\\psi (x;F, n)$$"
   ]
  },
  {
   "cell_type": "markdown",
   "id": "57ed8d2b",
   "metadata": {},
   "source": [
    "2. Bootstrap sample的统计量$\\theta^{*(k)}_n$的分布函数：$F_{\\theta^{*}_n}(x)=\\psi (x;\\hat F_n,n)$ \\\n",
    "说明： \\\n",
    "· Bootstrap sample是用$\\hat F_n$为分布进行抽样，$X^*_1, X^*_2, ..., X^*_n\\sim \\hat F_n$ \\\n",
    "· 所以基于$X^*_1, X^*_2, ..., X^*_n$得到的Bootstrap sample的统计量$\\theta^*_n$的分布取决于$\\hat F_n$和n，有$$\n",
    "F_{\\theta ^{*(k)}_n}(x) = \\psi (x;\\hat F_n,n)$$\n",
    "因为每一组Bootstrap sample都是从相同的分布$\\hat F_n$中抽样得到的，所以：$$\n",
    "\\psi (x;\\hat F_n,n)=F_{\\theta ^{*(1)}_n}(x)=F_{\\theta^{*(2)}_n}(x)=...=F_{\\theta^{*(B)}_n}(x)$$\n",
    "<font color=orange>比如Bootstrap median: $$\n",
    "M^{*(k)}_n = median\\{X^{*(k)}_1, X^{*(k)}_2, ..., X^{*(k)}_n\\}\\\\\n",
    "\\psi (x;\\hat F_n,n)=F_{M^{*(1)}_n}(x)=F_{M^{*(2)}_n}(x)=...=F_{M^{*(B)}_n}(x)\n",
    "$$</font>"
   ]
  },
  {
   "cell_type": "markdown",
   "id": "bf4a012d",
   "metadata": {},
   "source": [
    "#### II.1.3 Bootstrap statistics的分布特征\n",
    "1. Bootstrap estimate的CDF与对应的population quantity的CDF相似 \\\n",
    "证明：\\\n",
    "由EDF的收敛性质可知，$\\hat F_n \\overset{P}{\\rightarrow} F$。\\\n",
    "如果$\\psi$相对F是smooth的，那么此时$\\psi (x;\\hat F_n,n)$也会与$\\psi (x;F, n)$很相似。\\\n",
    "根据收敛性质：$$\\begin{align}\n",
    "& 已知：\\ \\hat F_n \\overset{P}{\\rightarrow} F ,如果： \\ \\psi\\ is\\ smooth\\\\\n",
    "& 那么：\\ \\psi (x;\\hat F_n,n) \\overset{P}{\\rightarrow} \\psi (x;F, n) \\\\\n",
    "& 此时：F_{\\theta ^{*}_n}(x) \\overset{P}{\\rightarrow} F_{\\theta _n}(x)\n",
    "\\end{align}$$\n",
    "<font color=green>也即：Bootstrap statistics的CDF与sample statistics的CDF相似。</font> \\\n",
    "<font color=orange>以median为例：Bootstrap median $M^{*}_n$的CDF与sample median $M_n$的CDF相似。$$\n",
    "F_{M ^{*}_n}(x)=\\psi (x;\\hat F_n,n) \\overset{P}{\\rightarrow} \\psi (x;F, n) = F_{M_n}(x)$$</font>"
   ]
  },
  {
   "cell_type": "markdown",
   "id": "1a86d8f7",
   "metadata": {},
   "source": [
    "2. 当估计量的CDF与对应的总体特征(population quantity)的CDF相似时，可以扩展出新的性质，比如：\n",
    "<font color=blue>$$\\hat {Var}_B(M^*_n) \\approx Var(M^{*}_n|\\hat F_n)\\approx Var(M_n| F) $$</font>\n",
    "（1）取$Var(M^*_n|\\hat F_n)$表示$Var(M^{*}_n)$，加条件是强调它是以$\\hat F_n$为CDF的$M^{*}_n$的<font color=red>**总体方差**</font>。 \\\n",
    "（2）取$Var(M_n|F)$表示$Var(M_n)$，是以F为CDF的<font color=red>**总体方差**</font>。 \\\n",
    "（3）取$\\hat {Var}_B(M^*_n)= \\frac{1}{B-1} {\\textstyle \\sum_{k=1}^{B}} (M^{*(k)}_n-\\bar M^*_B)^2$，表示$M^{*}_n|\\hat F_n$对应的B轮Bootstrap抽样得到的<font color=green>**样本方差**</font>。"
   ]
  },
  {
   "cell_type": "markdown",
   "id": "4efdb532",
   "metadata": {},
   "source": [
    "3. 收敛性证明：\\\n",
    "(1) Bootstrap median的CDF与sample median的CDF相似，所以他们的方差相似\\\n",
    "$\\therefore Var(M^{*}_n|\\hat F) \\approx Var(M_n| F)$<font color=red>——这是两个总体的方差相似</font> \\\n",
    "(2) B可以人为设置为很大的值，B很大时，样本方差和总体方差相似。因为<font color=green>这里$\\hat F_n$是$M^{*}_n$的CDF；B越大，抽样轮次越多，样本方差就会逼近总体方差。</font> \\\n",
    "$\\therefore \\hat {Var}_B(M^*_n) \\approx Var(M^{*}_n|\\hat F) $ <font color=red>——这是样本方差与总体方差相似</font> \\\n",
    "\n",
    "<font color=blue>**除了variance之外，分位数，偏度、峰度等统计量都有同样的性质。但也不是所有的统计量都适用。**</font>"
   ]
  },
  {
   "cell_type": "markdown",
   "id": "8a1127b7",
   "metadata": {},
   "source": [
    "4. 上述特征对$M_n=min\\{X_1, X_2, ..., X_n\\}$无效。 \\\n",
    "分析： \\\n",
    "假设${X_1, X_2, ..., X_n} \\sim Uni[0, 1]$，有n个样本$\\{X_1, X_2, ..., X_n\\}$，$M_n=min{X_1, X_2, ..., X_n}$是样本的最小值。\\\n",
    "分析：\\\n",
    "（1）均匀分布的样本最小值服从指数分布。即：$$n·M_n \\overset{D}{\\rightarrow} Exp(1)$$Exp(1)是参数为1的指数分布。也因此，$M_n$的分布是连续的。\\\n",
    "（2）用原样本做Bootstrap sample。\\\n",
    "· 得到$M^{*}_n$是Bootstrap sample的最小值，即$M^{*}_n=min{X^*_1, X^*_2, ..., X^*_n}$。\\\n",
    "· 因为$P(X^*_i=M_n)=\\frac{1}{n}$，因此：$$\n",
    "P(none\\ of X^*_1, X^*_2, ..., X^*_n\\ select\\ M_n)=(1-\\frac{1}{n})^n \\approx e^{-1} \\\\\n",
    "P(one\\ of\\ X^*_1, X^*_2, ..., X^*_n select\\ M_n)\\approx 1-e^{-1} \\\\\n",
    "即，P(M^*_n=M_n) \\approx 1-e^{-1}\n",
    "$$可见，$M^*_n$有较大的概率直接取到$M_n$，这也就意味着，$M^*_n$的分布不是指数分布，也就和$M_n$的分布完全不同。"
   ]
  },
  {
   "cell_type": "markdown",
   "id": "f049189a",
   "metadata": {},
   "source": [
    "## II. Bootstrap and Statistical Functionals"
   ]
  },
  {
   "cell_type": "markdown",
   "id": "3e9882ae",
   "metadata": {},
   "source": [
    "### II.1 Bootstrap EDF: $\\hat F^*_n=\\frac{1}{n} {\\textstyle \\sum_{i=1}^{n}}I(X^*_n\\le x) $\n",
    "**定义：Bootstrap sample的EDF称为Bootstrap EDF**\n",
    "<font color=orange>$$\n",
    "\\begin{align} \n",
    "& F(x) &\\overset{抽样}{\\rightarrow} \\underline{\\{X_1, ..., X_n\\}} & \\Longrightarrow &\\underline{\\hat{F}_n(x)=\\frac{1}{n} {\\textstyle \\sum_{i=1}^{n}}I(X_n\\le x) }\\\\\n",
    "& & sample & &EDF  \\\\\n",
    "& \\{X_1, X_2, ..., X_n\\} &\\overset{抽样}{\\rightarrow} \\underline{\\{X^*_1, ..., X^*_n\\}} & \\Longrightarrow &\\underline{\\hat F^*_n(x)=\\frac{1}{n} {\\textstyle \\sum_{i=1}^{n}}I(X^*_n\\le x) }\\\\ \n",
    "& & bootstrap\\ sample & & Bootstrap\\ EDF\\\\\n",
    "\\end{align}$$</font>"
   ]
  },
  {
   "cell_type": "markdown",
   "id": "0325b7af",
   "metadata": {},
   "source": [
    "### II.2 用$\\hat F^*_n$作为input的Statistical functional做参数估计"
   ]
  },
  {
   "cell_type": "markdown",
   "id": "d2d33ab5",
   "metadata": {},
   "source": [
    "#### II.2.1 估计statistical functional的方式：\n",
    "取statistical functional为$\\theta=T_{target}$，用plug-in方法做估计：\n",
    "1. 第一种plug-in estimateor：plug-in的对象是EDF\n",
    "$$\\hat {\\theta}_n=T_{target}(\\hat{F}_n)$$\n",
    "2. 第二种plug-in estimateor：plug-in的对象是Bootstrap EDF\n",
    "$$\\hat {\\theta}^*_n=T_{target}(\\hat{F}^*_n)$$"
   ]
  },
  {
   "cell_type": "markdown",
   "id": "b7f0cb85",
   "metadata": {},
   "source": [
    "#### II.2.2 两种plug-in estimator的一致性和方差分析\n",
    "· 假设要估计的对象$\\theta$是总体的统计量：$\\theta = S(X；F)$，其中$X\\sim F(x)$ \\\n",
    "· 有n个样本$\\{X_1, ..., X_n\\}$，样本统计量$S_n(X_1, X_2, ..., X_n)$是样本的函数，sample estimator是$\\hat \\theta_n = S_n(X_1, X_2, ..., X_n)$ \\\n",
    "· 做B轮Bootstrap sample，得到B个Bootstrap estimates：\n",
    "$$\\begin{align} \n",
    "& \\hat {\\theta^*}^{(1)}_n = S_n(X^{*(1)}_1, X^{*(1)}_2, ..., X^{*(1)}_n) \\\\\n",
    "& \\hat {\\theta^*}^{(2)}_n = S_n(X^{*(2)}_1, X^{*(2)}_2, ..., X^{*(2)}_n)\\\\\n",
    "& ...\\\\\n",
    "& \\hat {\\theta^*}^{(B)}_n = S_n(X^{*(B)}_1, X^{*(B)}_2, ..., X^{*(B)}_n) \n",
    "\\end{align}$$"
   ]
  },
  {
   "cell_type": "markdown",
   "id": "8aec01cf",
   "metadata": {},
   "source": [
    "**估计量的方差**：可以用以上Bootstrap估计量$\\hat{\\theta^*}_n$的方差$\\hat {Var}_B(\\hat{\\theta^*}_n)$来作为样本估计量$\\hat \\theta_n$的方差$Var(\\hat \\theta_n)$的估计量$$\\begin{align}\n",
    "\\bar {\\hat {\\theta ^*}}_B &  =\\frac{1}{B} {\\textstyle \\sum_{k=1}^{B}}\\hat{\\theta ^*}^{(k)}_n \\\\\n",
    "\\hat {Var}_B(\\hat{\\theta^*}_n)& = \\frac{1}{B-1} {\\textstyle \\sum_{k=1}^{B}} (\\hat{\\theta^*}^{(k)}_n-\\bar {\\hat{\\theta ^*}}_B)^2\n",
    "\\end{align} $$"
   ]
  },
  {
   "cell_type": "markdown",
   "id": "6d279381",
   "metadata": {},
   "source": [
    "前文对中位数方差的分析有结论：<font color=orange>$$\\hat {Var}_B(M^*_n) \\approx Var(M^{*}_n|\\hat F_n)\\approx Var(M_n| F) $$</font>\n",
    "这里也可以证明类似关系：<font color=blue>$$\n",
    "\\hat {Var}_B(\\hat {\\theta^*}_n) \\approx Var(\\hat{\\theta^*}_n|\\hat F_n)\\approx Var(\\hat \\theta_n|F)\n",
    "$$</font>"
   ]
  },
  {
   "cell_type": "markdown",
   "id": "c2da88c7",
   "metadata": {},
   "source": [
    "1. 证明：$\n",
    "\\hat {Var}_B(\\hat {\\theta^*}_n) \\approx Var(\\hat{\\theta^*}_n|\\hat F_n)$ \\\n",
    "B可以人为设置为很大的值，B很大时，样本方差和总体方差相似。因为<font color=green>这里$\\hat F_n$是Bootstrap sample所使用的CDF；B越大，抽样轮次越多，样本方差就会逼近总体方差。</font> ？？？找数学定理依据"
   ]
  },
  {
   "cell_type": "markdown",
   "id": "98eac610",
   "metadata": {},
   "source": [
    "2. 证明：$Var(\\hat{\\theta^*}_n|\\hat F_n)\\approx Var(\\hat \\theta_n|F)$ \\\n",
    "符号说明：\\\n",
    "(1)有总体统计量$\\theta = T_\\theta (F)$，对应的样本统计量是$\\hat{\\theta}_n=T_\\theta(\\hat F_n)$。 \\\n",
    "(2)样本统计量的方差$Var(\\hat{\\theta}_n)=Var(T_\\theta(\\hat F_n))$"
   ]
  },
  {
   "cell_type": "markdown",
   "id": "64989e8a",
   "metadata": {},
   "source": [
    "样本统计量$\\hat \\theta$的方差完全由原分布F(x)和样本数量n决定。因此，可以用函数$\\psi(F,n)$"
   ]
  },
  {
   "cell_type": "markdown",
   "id": "76b9d537",
   "metadata": {},
   "source": [
    "\n",
    " \\\\\n",
    "通常，Var(T_\\theta(\\hat F_n)) \\approx \\frac{1}{n}Var(T_\\theta(\\hat F_1))=\\frac{1}{n}Var(T_\\theta(F))\n",
    "$$"
   ]
  },
  {
   "cell_type": "markdown",
   "id": "6071d74d",
   "metadata": {},
   "source": []
  },
  {
   "cell_type": "markdown",
   "id": "c0efc985",
   "metadata": {},
   "source": []
  },
  {
   "cell_type": "markdown",
   "id": "979b146c",
   "metadata": {},
   "source": [
    "因此，Bootstrap variance是variance of estimator $\\hat \\theta_n$的较好估计。"
   ]
  },
  {
   "cell_type": "markdown",
   "id": "b179a4bb",
   "metadata": {},
   "source": [
    "### II.3 估计准确性"
   ]
  },
  {
   "cell_type": "markdown",
   "id": "5d9a4848",
   "metadata": {},
   "source": []
  }
 ],
 "metadata": {
  "kernelspec": {
   "display_name": "Python 3 (ipykernel)",
   "language": "python",
   "name": "python3"
  },
  "language_info": {
   "codemirror_mode": {
    "name": "ipython",
    "version": 3
   },
   "file_extension": ".py",
   "mimetype": "text/x-python",
   "name": "python",
   "nbconvert_exporter": "python",
   "pygments_lexer": "ipython3",
   "version": "3.10.12"
  }
 },
 "nbformat": 4,
 "nbformat_minor": 5
}
