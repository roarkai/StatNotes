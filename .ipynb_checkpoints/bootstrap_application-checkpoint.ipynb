{
 "cells": [
  {
   "cell_type": "markdown",
   "id": "9ff45d4a",
   "metadata": {},
   "source": [
    "# Bootstrap\n",
    "### 一个引导案例\n",
    "实验室有100个学生，想统计他们没人每天要打开多少次手机。只有30个学生自愿报名参加统计，安装了用于统计开机次数的app。1天之后，用他们的数据计算得到平均开机次数是228.06次。"
   ]
  },
  {
   "cell_type": "code",
   "execution_count": 20,
   "id": "21adf05a",
   "metadata": {
    "ExecuteTime": {
     "end_time": "2023-11-04T13:40:35.188354Z",
     "start_time": "2023-11-04T13:40:35.185049Z"
    }
   },
   "outputs": [
    {
     "name": "stdout",
     "output_type": "stream",
     "text": [
      "252.70 144.25\n"
     ]
    }
   ],
   "source": [
    "import numpy as np\n",
    "import matplotlib.pyplot as plt\n",
    "\n",
    "# 生成100个学生的总体数据\n",
    "np.random.seed(42)\n",
    "pickups = np.random.randint(0,500 , size=100)\n",
    "print(f\"{pickups.mean():.2f}\", f\"{pickups.std():.2f}\")"
   ]
  },
  {
   "cell_type": "code",
   "execution_count": 18,
   "id": "d3f8a258",
   "metadata": {
    "ExecuteTime": {
     "end_time": "2023-11-04T13:40:07.639383Z",
     "start_time": "2023-11-04T13:40:07.635834Z"
    }
   },
   "outputs": [
    {
     "name": "stdout",
     "output_type": "stream",
     "text": [
      "203.90\n",
      "28.18\n"
     ]
    }
   ],
   "source": [
    "# 从总体中抽样30个\n",
    "sample = np.random.choice(pickups, size=30)\n",
    "# 计算样本的均值和标准差，完成对总体均值的一次点估计\n",
    "sample_mean = sample.mean()\n",
    "print(f\"{sample_mean:.2f}\")\n",
    "# 该点估计的measure of accuracy：用均值的标准差来衡量\n",
    "sample_std = np.std(sample, ddof=1)/(30 ** 0.5)\n",
    "print(f\"{sample_std:.2f}\")\n",
    "# 抽样数量30，可以用CLT，近似假设估计量服从正态分布。由此可以计算置信区间"
   ]
  },
  {
   "cell_type": "markdown",
   "id": "3184c2d5",
   "metadata": {},
   "source": [
    "上述估计可行有两个前提：\n",
    "1. 估计的是样本均值，该估计量的样本方法非常好估。但很多时候the standard error of a estimate是很难直接计算的\n",
    "2. 可以用大数定律来得到估计量的置信区间。但实践中正态分布的假设并不成立。 \\\n",
    "此时，需要其他方法。"
   ]
  },
  {
   "cell_type": "markdown",
   "id": "a2228ff5",
   "metadata": {},
   "source": [
    "## I. Empirical Bootstrap\n",
    "### I.1 定义\n",
    "Empirical Bootstrap是一种resampling method。方式是：independently sampling with replacement from an existing sample data with same sample size n, and performing inference among these resampled data. \\\n",
    "又称<font color=red>Efron's bootstrap，或者nonparametric bootstrap</font>。"
   ]
  },
  {
   "cell_type": "markdown",
   "id": "bad5b0ce",
   "metadata": {},
   "source": [
    "### I.2 流程\n",
    "有抽样样本$\\{X_1, X_2, ..., X_n\\}$，从中有放回抽样，每轮抽n个样本$\\{X^{*(k)}_1, X^{*(k)}_2, ..., X^{*(k)}_n\\}$，一共抽B轮，即$k=(1, 2, ..., B)$。最终得到的B个bootstrap sample sets: $$\\begin{align} \n",
    "& \\{X^{*(1)}_1, X^{*(1)}_2, ..., X^{*(1)}_n\\} \\\\\n",
    "& \\{X^{*(2)}_1, X^{*(2)}_2, ..., X^{*(2)}_n\\}\\\\\n",
    "& ...\\\\\n",
    "& \\{X^{*(B)}_1, X^{*(B)}_2, ..., X^{*(B)}_n\\} \n",
    "\\end{align}$$\n",
    "<img src=\"./pics/BootstrapSteps.png\" style=\"zoom:100%\">"
   ]
  },
  {
   "cell_type": "markdown",
   "id": "b64800c9",
   "metadata": {},
   "source": [
    "### I.3 用bootstrap samples做估计: Bootstrap estimates\n",
    "以中位数为例：$M_n=median\\{X_1, X_2, ..., X_n\\}$为原样本中位数。\\\n",
    "从上面的bootstrap sample sets中可以得到：$$\\begin{align} \n",
    "& M^{*(1)}_n = median\\{X^{*(1)}_1, X^{*(1)}_2, ..., X^{*(1)}_n\\} \\\\\n",
    "& M^{*(2)}_n = median\\{X^{*(2)}_1, X^{*(2)}_2, ..., X^{*(2)}_n\\}\\\\\n",
    "& ...\\\\\n",
    "& M^{*(B)}_n = median\\{X^{*(B)}_1, X^{*(B)}_2, ..., X^{*(B)}_n\\} \n",
    "\\end{align}$$\n",
    "用他们可以计算各种Bootstrap estimates: \\\n",
    "<font color=green>(1) 用$\\hat {Var}_B(M_n)$估计</font><font color=blue>**样本$Var(M_n)$**</font>\n",
    "$$\n",
    "\\bar M^*_B=\\frac{1}{B} {\\textstyle \\sum_{k=1}^{B}}M^{*(k)}_n \\\\\n",
    "\\hat {Var}_B(M_n) = \\frac{1}{B-1} {\\textstyle \\sum_{k=1}^{B}} (M^{*(k)}_n-\\bar M^*_B)^2\n",
    "$$ $\\hat {Var}_B(M_n)$称为bootstrap estimate of the variance，方差的Bootstrap估计量。\\\n",
    "<font color=green>(2) 用$\\hat {MSE}_B(M_n)$估计</font><font color=blue>**样本$MSE$**</font>\n",
    "$$\\hat {MSE}_B(M_n) = \\frac{1}{B} {\\textstyle \\sum_{k=1}^{B}} (M^{*(k)}_n-M_n)^2\n",
    "$$ $\\hat {MSE}_B(M_n)$称为bootstrap estimate of MSE，MSE的Bootstrap估计量。\\\n",
    "(3) <font color=blue>**总体中位数**</font><font color=green>的置信水平为$1-\\alpha$的置信区间为：</font>\n",
    "$$\\begin{align}\n",
    "& M_n \\pm z_{1-\\alpha/2}·\\sqrt{\\hat {Var}_B(M_n)}\\\\\n",
    "& z_{1-\\alpha/2}是标准正态分布的置信度为（1-\\alpha/2）的置信区间的边界\\end{align}\n",
    "$$ 该区间称为bootstrap confidence interval"
   ]
  },
  {
   "cell_type": "markdown",
   "id": "db4f3e77",
   "metadata": {},
   "source": [
    "### I.4 Bootstrap estimates背后的统计原理\n",
    "#### 1.4.1 $\\hat F_n$是F(x)的EDF，也是Bootstrap sample对应的随机变量$X^*$的CDF\n",
    "1. 原样本${X_1, X_2, ..., X_n}$对应的F(x)的估计量$\\hat F_n(x)=\\frac{1}{n} {\\textstyle \\sum_{i=1}^{n}}I(X_i\\le x) $，它是基于原样本的EDF。\n",
    "2. <font color=blue>用原样本${X_1, X_2, ..., X_n}$做Bootstrap sampling，每次得到的值记为随机变量$X^*$的取值。那么$X^*$本质上是以${X_1, X_2, ..., X_n}$为取值空间，每个事件概率$P(X^*=X_i)=\\frac{1}{n}$的随机变量。此时，$\\hat F_n(x)=\\frac{1}{n} {\\textstyle \\sum_{i=1}^{n}}I(X_i\\le x) $是$X^*$的CDF。</font>\\\n",
    "如果抽n个$X^*$，那么就有$$\n",
    "X^*_1, X^*_2, ..., X^*_n\\sim \\hat F_n\n",
    "$$\n",
    "如果一共抽B轮，每轮抽n次，则有：$$\\begin{align} \n",
    "& X^{*(1)}_1, X^{*(1)}_2, ..., X^{*(1)}_n \\ \\sim \\hat F_n \\\\\n",
    "& X^{*(2)}_1, X^{*(2)}_2, ..., X^{*(2)}_n \\ \\sim \\hat F_n \\\\\n",
    "& ...\\\\\n",
    "& X^{*(B)}_1, X^{*(B)}_2, ..., X^{*(B)}_n \\ \\sim \\hat F_n \n",
    "\\end{align}$$\n",
    "<font color=green>表示：每个Bootstrap sample set都是用分布$\\hat F_n$抽样的一组IID样本</font>"
   ]
  },
  {
   "cell_type": "markdown",
   "id": "fe1def5c",
   "metadata": {},
   "source": [
    "#### 1.4.2 统计量的分布函数：中位数为例\n",
    "1. 基于原样本${X_1, X_2, ..., X_n}$的统计量$M_n$的分布函数：$F_{M_n}(x)=\\psi (x;F, n)$ \\\n",
    "原分布是F(x)，原有的抽样样本$X_1, X_2, ..., X_n\\sim F$。这些样本的中位数$M_n$的分布取决于F和n，因此可以将样本中位数的分布标记为：$$F_{M_n}(x)=\\psi (x;F, n)$$"
   ]
  },
  {
   "cell_type": "markdown",
   "id": "68f2e230",
   "metadata": {},
   "source": [
    "2. Bootstrap估计量$M^{*(k)}_n$的分布函数：$M^{*}_n=\\psi (x;\\hat F_n,n)$，<font color=red>这里$\\hat F_n$是$M^{*}_n$的CDF</font>。 \\\n",
    "比如Bootstrap median: $$\n",
    "M^{*(k)}_n = median\\{X^{*(k)}_1, X^{*(k)}_2, ..., X^{*(k)}_n\\}\\\\\n",
    "F_{M^{*(k)}_n}(x) = \\psi (x;\\hat F_n,n)\n",
    "$$因为每一组Bootstrap sample都是从相同的分布$\\hat F_n$中抽样得到的，所以：$$\n",
    "\\psi (x;\\hat F_n,n)=F_{M^{*(1)}_n}(x)=F_{M^{*(2)}_n}(x)=...=F_{M^{*(B)}_n}(x)\n",
    "$$"
   ]
  },
  {
   "cell_type": "markdown",
   "id": "67675d0e",
   "metadata": {},
   "source": [
    "#### 1.4.3 估计量的性质分析\n",
    "1. Bootstrap estimate的CDF与对应的population quantity的CDF相似 \\\n",
    "因为$\\hat F_n \\overset{P}{\\rightarrow} F$，所以当n很大时，$\\hat F_n$与F相似。如果$\\psi$相对F是smooth的，那么此时$\\psi (x;\\hat F_n,n)$也会与$\\psi (x;F, n)$很相似。\\\n",
    "根据收敛性质：$$ \\begin{align}\n",
    "& \\because \\hat F_n \\overset{P}{\\rightarrow} F ,\\ \\ \\psi\\ is\\ smooth\\\\\n",
    "& \\therefore F_{M^{*}_n}(x)=\\psi (x;\\hat F_n,n) \\overset{P}{\\rightarrow} \\psi (x;F, n) = F_{M_n}(x)\n",
    "\\end{align}$$\n",
    "<font color=orange>这意味着：Bootstrap median $M^{*}_n$的CDF与sample median $M_n$的CDF相似。</font> \\\n",
    "<font color=green>一般化为：Bootstrap estimate的CDF与sample estimate的CDF相似。</font>"
   ]
  },
  {
   "cell_type": "markdown",
   "id": "5965bd00",
   "metadata": {},
   "source": [
    "2. 当估计量的CDF与对应的总体特征(population quantity)的CDF相似时，可以扩展出新的性质，比如：<font color=blue>$$\\hat {Var}_B(M_n) \\approx Var(M^{*}_n|\\hat F)\\approx Var(M_n| F) $$</font>\n",
    "· 取$Var(M^{*}_n|\\hat F)$表示$Var(M^{*}_n)$，加条件是为强调它是以$\\hat F$为CDF的$M^{*}_n$的<font color=red>**总体方差**</font>。 \\\n",
    "· 取$Var(M_n|F)$表示$Var(M_n)$，是以F为CDF的<font color=red>**总体方差**</font>。 \\\n",
    "· 取$\\hat {Var}_B(M_n)= \\frac{1}{B-1} {\\textstyle \\sum_{k=1}^{B}} (M^{*(k)}_n-\\bar M^*_B)^2$，表示$M^{*}_n|\\hat F$对应的B轮Bootstrap抽样得到的<font color=green>**样本方差**</font>。\\\n",
    "(1) Bootstrap median的CDF与sample median的CDF相似，所以他们的方差相似\\\n",
    "$Var(M^{*}_n|\\hat F) \\approx Var(M_n| F)$<font color=red>——这是两个总体的方差相似</font> \\\n",
    "(2) B可以人为设置为很大的值，B很大时，样本方差和总体方差相似。因为<font color=green>这里$\\hat F_n$是$M^{*}_n$的CDF；B越大，抽样轮次越多，样本方差就会逼近总体方差。</font> \\\n",
    "$ \\hat {Var}_B(M_n) \\approx Var(M^{*}_n|\\hat F) $ <font color=red>——这是样本方差与总体方差相似</font> \\\n",
    "\n",
    "<font color=blue>**除了variance之外，分位数，偏度、峰度等统计量都有同样的性质。但也不是所有的统计量都适用。**</font>"
   ]
  },
  {
   "cell_type": "markdown",
   "id": "1b56cd58",
   "metadata": {},
   "source": [
    "3. 上述特征对$M_n=min\\{X_1, X_2, ..., X_n\\}$无效。 \\\n",
    "分析： \\\n",
    "假设${X_1, X_2, ..., X_n} \\sim Uni[0, 1]$，有n个样本$\\{X_1, X_2, ..., X_n\\}$，$M_n=min{X_1, X_2, ..., X_n}$是样本的最小值。\\\n",
    "分析：\\\n",
    "（1）均匀分布的样本最小值服从指数分布。即：$$n·M_n \\overset{D}{\\rightarrow} Exp(1)$$Exp(1)是参数为1的指数分布。也因此，$M_n$的分布是连续的。\\\n",
    "（2）用原样本做Bootstrap sample。\\\n",
    "· 得到$M^{*}_n$是Bootstrap sample的最小值，即$M^{*}_n=min{X^*_1, X^*_2, ..., X^*_n}$。\\\n",
    "· 因为$P(X^*_i=M_n)=\\frac{1}{n}$，因此：$$\n",
    "P(none\\ of X^*_1, X^*_2, ..., X^*_n\\ select\\ M_n)=(1-\\frac{1}{n})^n \\approx e^{-1} \\\\\n",
    "P(one\\ of\\ X^*_1, X^*_2, ..., X^*_n select\\ M_n)\\approx 1-e^{-1} \\\\\n",
    "即，P(M^*_n=M_n) \\approx 1-e^{-1}\n",
    "$$可见，$M^*_n$有较大的概率直接取到$M_n$，这也就意味着，$M^*_n$的分布不是指数分布，也就和$M_n$的分布完全不同。"
   ]
  },
  {
   "cell_type": "markdown",
   "id": "3751d08c",
   "metadata": {},
   "source": [
    "## II. Bootstrap and Statistical Functionals\n"
   ]
  },
  {
   "cell_type": "markdown",
   "id": "116b71dd",
   "metadata": {},
   "source": []
  },
  {
   "cell_type": "markdown",
   "id": "316a0fb2",
   "metadata": {},
   "source": []
  },
  {
   "cell_type": "markdown",
   "id": "4fed131a",
   "metadata": {},
   "source": []
  },
  {
   "cell_type": "markdown",
   "id": "ca1e2461",
   "metadata": {},
   "source": []
  }
 ],
 "metadata": {
  "kernelspec": {
   "display_name": "Python 3 (ipykernel)",
   "language": "python",
   "name": "python3"
  },
  "language_info": {
   "codemirror_mode": {
    "name": "ipython",
    "version": 3
   },
   "file_extension": ".py",
   "mimetype": "text/x-python",
   "name": "python",
   "nbconvert_exporter": "python",
   "pygments_lexer": "ipython3",
   "version": "3.10.12"
  }
 },
 "nbformat": 4,
 "nbformat_minor": 5
}
