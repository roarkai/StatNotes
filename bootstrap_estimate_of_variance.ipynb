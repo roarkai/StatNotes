{
 "cells": [
  {
   "cell_type": "markdown",
   "id": "9edfd14d",
   "metadata": {},
   "source": [
    "# Bootstrap方法\n",
    "## II. 用Bootstrap estimate估计样本统计量的性质"
   ]
  },
  {
   "cell_type": "markdown",
   "id": "20e1ab88",
   "metadata": {},
   "source": [
    "### II.0 背景设定和符号说明\n",
    "1. 原随机变量X： \\\n",
    "① 随机变量$X \\sim F(x)$。 \\\n",
    "② population quantity$\\theta=S_\\theta(X；F)$\n",
    "2. 样本：\\\n",
    "① 从F(x)随机抽取n个样本得到$\\{X_1, X_2, ..., X_n\\}$，对应得到F(x)的estimator EDF $\\hat F_n(x)=\\frac{1}{n} {\\textstyle \\sum_{i=1}^{n}}I(X_i\\le x) $。 \\\n",
    "② population quantity$\\theta$对应的sample statistic是$\\hat \\theta_n$，$\\hat \\theta_n=S_{\\theta,n}(X_1, X_2, ..., X_n)$\n",
    "3. Bootstrap sample： \\\n",
    "① 用样本$\\{X_1, X_2, ..., X_n\\}$做Bootstrap sampling，每次得到的值记为随机变量$X^*$的取值。$X^*$是以${X_1, X_2, ..., X_n}$为取值空间，每个事件概率$P(X^*=X_i)=\\frac{1}{n}$的随机变量。$X^* \\sim \\hat F_n$。 \\\n",
    "② 基于一个Bootstrap sample set计算与$\\theta$对应的bootstrap statistic记为$\\hat {\\theta^*}^{(k)}_n$或简写为$\\hat {\\theta^*}_n$。$$\\hat {\\theta^*}^{(k)}_n=S_{\\theta,n}(X^{*(k)}_1, X^{*(k)}_2, ..., X^{*(k)}_n)（或\\hat {\\theta^*}_n=S_{\\theta,n}(X^{*}_1, X^{*}_2, ..., X^{*}_n)）$$\n",
    "③ 做B轮Bootstrap sample，得到B个Bootstrap estimates：\n",
    "$$\\begin{align} \n",
    "& \\hat {\\theta^*}^{(1)}_n = S_{\\theta,n}(X^{*(1)}_1, X^{*(1)}_2, ..., X^{*(1)}_n) \\\\\n",
    "& \\hat {\\theta^*}^{(2)}_n = S_{\\theta,n}(X^{*(2)}_1, X^{*(2)}_2, ..., X^{*(2)}_n)\\\\\n",
    "& ...\\\\\n",
    "& \\hat {\\theta^*}^{(B)}_n = S_{\\theta,n}(X^{*(B)}_1, X^{*(B)}_2, ..., X^{*(B)}_n) \n",
    "\\end{align}$$"
   ]
  },
  {
   "cell_type": "markdown",
   "id": "bef0a018",
   "metadata": {},
   "source": [
    "<font color=blue>使用Bootstrap方法的真正关注点是样本估计量的方差$Var(\\hat \\theta_n)$，Bootstrap的主要用途就是用$Var_B(\\hat{\\theta ^*}_n)$来估计该方差。</font>\n",
    "1. $Var(\\theta)=0$，因为$\\theta$不是随机变量\n",
    "2. $Var(\\hat \\theta_n)在后文中有的地方记作Var(\\hat \\theta_n|F)$，加上条件表示$\\hat \\theta_n$是用原分布F(x)的n个样本直接计算得出的统计量，<font color=red>[其方差就是估计的目标，未知]</font>\n",
    "3. $Var(\\hat{\\theta ^*}_n)在后文中记作Var(\\hat{\\theta ^*}_n|\\hat F_n)$，加上条件表示$\\hat{\\theta ^*}_n$是用$\\hat F_n$作为CDF，从中抽取一组Bootstrap sample，用该样本的结果计算的统计量，<font color=red>[其方差是估计的中间量，未知]</font>\n",
    "4. $\\hat {Var}_B(\\hat {\\theta^*}_n)= \\frac{1}{B-1} {\\textstyle \\sum_{k=1}^{B}} (\\hat{\\theta^*}^{(k)}_n-\\bar {\\hat{\\theta^*}_B})^2\n",
    "$是用Bootstrap sample得到B组样本后，在每一组上计算$\\hat{\\theta ^*}^{(k)}_n$，再用得到的B个结果计算得到方差。<font color=green>[这是可以直接计算的已知量]</font>"
   ]
  },
  {
   "cell_type": "markdown",
   "id": "c45f4e16",
   "metadata": {},
   "source": [
    "### II.1 Bootstrap statistics的分布\n",
    "#### II.1.1 $\\hat F_n$是Bootstrap sample对应的随机变量$X^*$的CDF\n",
    "1. 样本${X_1, X_2, ..., X_n}$对应的F(x)的估计量$\\hat F_n(x)=\\frac{1}{n} {\\textstyle \\sum_{i=1}^{n}}I(X_i\\le x) $，它是基于原样本的EDF。\n",
    "2. <font color=blue>用样本${X_1, X_2, ..., X_n}$做Bootstrap sampling，每次得到的值记为随机变量$X^*$的取值。那么$X^*$本质上是以${X_1, X_2, ..., X_n}$为取值空间，每个事件概率$P(X^*=X_i)=\\frac{1}{n}$的随机变量。此时，$\\hat F_n(x)=\\frac{1}{n} {\\textstyle \\sum_{i=1}^{n}}I(X_i\\le x) $是$X^*$的CDF。</font>\\\n",
    "如果抽n个$X^*$，那么就有$$\n",
    "X^*_1, X^*_2, ..., X^*_n\\sim \\hat F_n\n",
    "$$\n",
    "如果一共抽B轮，每轮抽n次，则有：$$\\begin{align} \n",
    "& X^{*(1)}_1, X^{*(1)}_2, ..., X^{*(1)}_n \\ \\sim \\hat F_n \\\\\n",
    "& X^{*(2)}_1, X^{*(2)}_2, ..., X^{*(2)}_n \\ \\sim \\hat F_n \\\\\n",
    "& ...\\\\\n",
    "& X^{*(B)}_1, X^{*(B)}_2, ..., X^{*(B)}_n \\ \\sim \\hat F_n \n",
    "\\end{align}$$\n",
    "<font color=green>表示：每个Bootstrap sample set都是用分布$\\hat F_n$抽样的一组IID样本</font>"
   ]
  },
  {
   "cell_type": "markdown",
   "id": "74755993",
   "metadata": {},
   "source": [
    "#### II.1.2 Bootstrap statistics的分布函数\n",
    "1. 基于原样本${X_1, X_2, ..., X_n}$的统计量$\\hat \\theta_n$的分布函数：$F_{\\hat \\theta_n}(x)=\\psi (x;F, n)$ \\\n",
    "说明： \\\n",
    "· 原分布是F(x)，原有的抽样样本$X_1, X_2, ..., X_n\\sim F$。\\\n",
    "· 所以基于$X_1, X_2, ..., X_n$得到的样本统计量$\\hat \\theta_n$的分布取决于F和n，因此可以将其分布记为$$F_{\\hat \\theta_n}(x)=\\psi (x;F, n)$$\n",
    "<font color=orange>比如中位数，其分布可以记为：$$F_{M_n}(x)=\\psi (x;F, n)$$</font>"
   ]
  },
  {
   "cell_type": "markdown",
   "id": "57ed8d2b",
   "metadata": {},
   "source": [
    "2. 基于Bootstrap sample$X^*_1, X^*_2, ..., X^*_n$的统计量$\\hat {\\theta^*}_n$的分布函数：$F_{\\hat \\theta^{*}_n}(x)=\\psi (x;\\hat F_n,n)$ \\\n",
    "说明： \\\n",
    "· Bootstrap sample是用$\\hat F_n$为分布进行抽样，$X^*_1, X^*_2, ..., X^*_n\\sim \\hat F_n$ \\\n",
    "· 所以基于$X^*_1, X^*_2, ..., X^*_n$得到的Bootstrap sample的统计量$\\hat \\theta^*_n$的分布取决于$\\hat F_n$和n，有$$\n",
    "F_{\\hat \\theta ^{*}_n}(x) = \\psi (x;\\hat F_n,n)$$\n",
    "因为每一组Bootstrap sample都是从相同的分布$\\hat F_n$中抽样得到的，所以：$$\n",
    "\\psi (x;\\hat F_n,n)=F_{\\hat \\theta ^{*(1)}_n}(x)=F_{\\hat \\theta^{*(2)}_n}(x)=...=F_{\\hat \\theta^{*(B)}_n}(x)$$\n",
    "<font color=orange>比如Bootstrap median: $$\n",
    "M^{*(k)}_n = median\\{X^{*(k)}_1, X^{*(k)}_2, ..., X^{*(k)}_n\\}\\\\\n",
    "\\psi (x;\\hat F_n,n)=F_{M^{*(1)}_n}(x)=F_{M^{*(2)}_n}(x)=...=F_{M^{*(B)}_n}(x)\n",
    "$$</font>"
   ]
  },
  {
   "cell_type": "markdown",
   "id": "bf4a012d",
   "metadata": {},
   "source": [
    "### II.2 Bootstrap estimate of variance的性质\n",
    "#### II.2.1 Bootstrap statistics的CDF与对应的sample statistics(样本统计量)的CDF相似\n",
    "证明：\\\n",
    "由EDF的收敛性质可知，$\\hat F_n \\overset{P}{\\rightarrow} F$。\\\n",
    "如果$\\psi$相对F是smooth的，那么此时$\\psi (x;\\hat F_n,n)$也会与$\\psi (x;F, n)$很相似。 \\\n",
    "<font color=red>注：smooth指函数在定义域上无穷阶连续可导。</font>\\\n",
    "根据收敛性质：$$\\begin{align}\n",
    "& 已知：\\ \\hat F_n \\overset{P}{\\rightarrow} F ,如果： \\ \\psi\\ is\\ smooth\\\\\n",
    "& 那么：\\ \\psi (x;\\hat F_n,n) \\overset{P}{\\rightarrow} \\psi (x;F, n) \\\\\n",
    "& 此时：F_{\\hat \\theta ^{*}_n}(x) \\overset{P}{\\rightarrow} F_{\\hat \\theta _n}(x)\n",
    "\\end{align}$$\n",
    "<font color=green>也即：Bootstrap statistics的CDF与sample statistics的CDF相似。</font> \\\n",
    "<font color=orange>以median为例：Bootstrap median $M^{*}_n$的CDF与sample median $M_n$的CDF相似。$$\n",
    "F_{M ^{*}_n}(x)=\\psi (x;\\hat F_n,n) \\overset{P}{\\rightarrow} \\psi (x;F, n) = F_{M_n}(x)$$</font>"
   ]
  },
  {
   "cell_type": "markdown",
   "id": "1a86d8f7",
   "metadata": {},
   "source": [
    "#### II.2.2 当Bootstrap statistics的CDF与对应的样本统计量的CDF相似时，样本统计量的方差的Bootstrap estimate有一致性\n",
    "1. 性质：\\\n",
    "<font color=blue>$$\\hat {Var}_B(\\hat {\\theta^*}_n) \\approx Var(\\hat{\\theta^*}_n|\\hat F_n)\\approx Var(\\hat \\theta_n|F) \\\\\n",
    "其中，\\hat {Var}_B(\\hat {\\theta^*}_n)= \\frac{1}{B-1} {\\textstyle \\sum_{k=1}^{B}} (\\hat{\\theta^*}^{(k)}_n-\\bar {\\hat{\\theta^*}_B})^2\n",
    "$$</font>\n",
    "<font color=orange>以median为例：$$\\hat {Var}_B(M^*_n) \\approx Var(M^{*}_n|\\hat F_n)\\approx Var(M_n| F) $$\n",
    "    $$其中，\\hat {Var}_B(M^*_n)= \\frac{1}{B-1} {\\textstyle \\sum_{k=1}^{B}} (M^{*(k)}_n-\\bar M^*_B)^2$$</font>\n",
    "2. 证明：\\\n",
    "① Bootstrap statistic $\\hat{\\theta^*}_n|\\hat F_n$的CDF与sample statistc $\\hat \\theta_n|F$的CDF相似，所以他们的方差相似\\\n",
    "$\\therefore Var(\\hat{\\theta^*}_n|\\hat F_n)\\approx Var(\\hat \\theta_n|F)$ \\\n",
    "② B可以人为设置为很大的值，B很大时，样本方差和总体方差相似。因为<font color=green>这里$\\hat F_n$是$\\hat {\\theta^*}_n$的CDF；B越大，抽样轮次越多，样本方差就会逼近总体方差。</font> \\\n",
    "$\\therefore \\hat {Var}_B(\\hat {\\theta^*}_n) \\approx Var(\\hat{\\theta^*}_n|\\hat F_n) $ <font color=red>——这是样本方差与总体方差相似</font>\n",
    "3. <font color=blue>**证明：当$E(X^2)<\\infty$时，样本方差依概率收敛到总体方差。**</font>\\\n",
    "$$\\begin{align} \n",
    "S^2_n & =\\frac{1}{n-1} {\\textstyle \\sum_{i=1}^{n}}(X_i-\\bar X_n)^2 \\\\\n",
    "& = \\frac{1}{n-1} ( {\\textstyle \\sum_{i=1}^{n}}X^2_i-n\\bar X_n^2 ) \\\\\n",
    "& = \\frac{n}{n-1} (\\frac{1}{n} {\\textstyle \\sum_{i=1}^{n}}X^2_i-\\bar X_n^2 )\\end{align}$$\n",
    "根据大数定律，当$EX<\\infty$时，样本均值收敛到总体均值。所以，当$E(X^2)<\\infty$时，有$\\frac{1}{n} {\\textstyle \\sum_{i=1}^{n}}X^2_i\\overset{P}{\\rightarrow} E(X^2), \\bar X_n \\overset{P}{\\rightarrow} EX$。带入上式有：\n",
    "$$S^2_n \\overset{P}{\\rightarrow} E(X^2)-(EX)^2 = Var(X)$$"
   ]
  },
  {
   "cell_type": "markdown",
   "id": "7583e524",
   "metadata": {},
   "source": [
    "#### II.2.3 除了median之外，分位数，偏度、峰度等有同样的性质，但不是所有的统计量都适用\n",
    "1. 反例：上述特征对$M_n=min\\{X_1, X_2, ..., X_n\\}$无效，因为min和max不是smooth function。\n",
    "2. 分析： \\\n",
    "假设${X_1, X_2, ..., X_n} \\sim Uni[0, 1]$，有n个样本$\\{X_1, X_2, ..., X_n\\}$，$M_n=min{X_1, X_2, ..., X_n}$是样本的最小值。\\\n",
    "分析：\\\n",
    "（1）均匀分布的样本最小值服从指数分布。即：$$n·M_n \\overset{D}{\\rightarrow} Exp(1)$$Exp(1)是参数为1的指数分布。也因此，$M_n$的分布是连续的。\\\n",
    "（2）用原样本做Bootstrap sample。\\\n",
    "· 得到$M^{*}_n$是Bootstrap sample的最小值，即$M^{*}_n=min{X^*_1, X^*_2, ..., X^*_n}$。\\\n",
    "· 因为$P(X^*_i=M_n)=\\frac{1}{n}$，因此：$$\n",
    "P(none\\ of X^*_1, X^*_2, ..., X^*_n\\ select\\ M_n)=(1-\\frac{1}{n})^n \\approx e^{-1} \\\\\n",
    "P(one\\ of\\ X^*_1, X^*_2, ..., X^*_n select\\ M_n)\\approx 1-e^{-1} \\\\\n",
    "即，P(M^*_n=M_n) \\approx 1-e^{-1}\n",
    "$$可见，$M^*_n$有较大的概率直接取到$M_n$，这也就意味着，$M^*_n$的分布不是指数分布，也就和$M_n$的分布完全不同。"
   ]
  },
  {
   "cell_type": "markdown",
   "id": "f049189a",
   "metadata": {},
   "source": [
    "#### II.2.4 用Statistical Functionals分析Bootstrap estimate of variance的性质"
   ]
  },
  {
   "cell_type": "markdown",
   "id": "3e9882ae",
   "metadata": {},
   "source": [
    "1. **定义：Bootstrap sample的EDF称为Bootstrap EDF**\n",
    "<font color=blue>$$\n",
    "\\begin{align} \n",
    "& F(x) &\\overset{抽样}{\\rightarrow} \\underline{\\{X_1, ..., X_n\\}} & \\Longrightarrow &\\underline{\\hat{F}_n(x)=\\frac{1}{n} {\\textstyle \\sum_{i=1}^{n}}I(X_n\\le x) }\\\\\n",
    "& & sample & &EDF  \\\\\n",
    "& \\{X_1, X_2, ..., X_n\\} &\\overset{抽样}{\\rightarrow} \\underline{\\{X^*_1, ..., X^*_n\\}} & \\Longrightarrow &\\underline{\\hat F^*_n(x)=\\frac{1}{n} {\\textstyle \\sum_{i=1}^{n}}I(X^*_n\\le x) }\\\\ \n",
    "& & bootstrap\\ sample & & Bootstrap\\ EDF\\\\\n",
    "\\end{align}$$</font>"
   ]
  },
  {
   "cell_type": "markdown",
   "id": "d2d33ab5",
   "metadata": {},
   "source": [
    "2. 两种EDF plug-in到statistical functional中： \\\n",
    "① 原statistical functional定义为：\n",
    "$$\\theta=T_{target}(F)$$\n",
    "② 第一种plug-in estimateor：plug-in的对象是EDF\n",
    "$$\\hat {\\theta}_n=T_{target}(\\hat{F}_n)$$\n",
    "③ 第二种plug-in estimateor：plug-in的对象是Bootstrap EDF\n",
    "$$\\hat {\\theta}^*_n=T_{target}(\\hat{F}^*_n)$$"
   ]
  },
  {
   "cell_type": "markdown",
   "id": "b7f0cb85",
   "metadata": {},
   "source": [
    "3. 根据influential function的性质：\\\n",
    "① 如果<font color=red>统计量可以表示为linear functional，即$\\theta = \\int w(x)dF(x)$</font>，\\\n",
    "② 且满足<font color=red>$\\int w^2(x)dF(x)<\\infty$</font> \\\n",
    "则有：$$Var(w(x)|\\hat F_n) \\overset{P}{\\rightarrow} Var(w(x)|F)$$"
   ]
  },
  {
   "cell_type": "markdown",
   "id": "7d635968",
   "metadata": {},
   "source": [
    "根据这一性质，将$\\hat F_n$作为CDF，$\\hat F^*_n$作为它的EDF，可以得到：$$Var(w(x)|\\hat F^*_n) \\overset{P}{\\rightarrow} Var(w(x)|\\hat F_n)\\\\\n",
    "也即，Var(\\hat{\\theta^*}_n|\\hat F_n)\\approx Var(\\hat \\theta_n|F)$$\n",
    "<font color=green>[详见statistical functional一节]</font>"
   ]
  },
  {
   "cell_type": "markdown",
   "id": "a52571d3",
   "metadata": {},
   "source": [
    "### II.3 用Bootstrap estimate of variance构建样本估计量的置信区间(略)"
   ]
  }
 ],
 "metadata": {
  "kernelspec": {
   "display_name": "Python 3 (ipykernel)",
   "language": "python",
   "name": "python3"
  },
  "language_info": {
   "codemirror_mode": {
    "name": "ipython",
    "version": 3
   },
   "file_extension": ".py",
   "mimetype": "text/x-python",
   "name": "python",
   "nbconvert_exporter": "python",
   "pygments_lexer": "ipython3",
   "version": "3.10.12"
  }
 },
 "nbformat": 4,
 "nbformat_minor": 5
}
