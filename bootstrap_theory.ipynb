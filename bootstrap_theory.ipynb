{
 "cells": [
  {
   "cell_type": "markdown",
   "id": "cc308d09",
   "metadata": {},
   "source": [
    "# Theory behind bootstrap"
   ]
  },
  {
   "cell_type": "markdown",
   "id": "f5a80b99",
   "metadata": {},
   "source": [
    "## I. 基本概念：CDF和EDF\n",
    "### I.1 定义\n",
    "1. <font color=blue>**累积分布函数CDF(Cumulative Distribution Function)**</font>\\\n",
    "定义：随机变量X的CDF记为F(x)，含义是事件(event)$\\{X_i≤x\\}$发生的概率。\\\n",
    "用数学形式可以表达为：$F(x)=P(X_i ≤x)$ \n",
    "2. <font color=blue>**经验分布函数EDF(Empitical Distribution Function)**</font> \\\n",
    "思路：用事件在随机变量的样本中发生的比率作为该事件发生概率的估计量(estimator)。 \\\n",
    "定义：$\\hat{F_n}(x)$作为$F(x)$的估计量\n",
    "$$\\hat{F_n}(x) = \\frac{number\\ of\\ X_i<x }{total\\ number\\ of\\ observations}  = \\frac{ {\\textstyle \\sum_{i=1}^{n}}I(X_i<x) }{n}\n",
    "$$"
   ]
  },
  {
   "cell_type": "markdown",
   "id": "d3afc1ac",
   "metadata": {},
   "source": [
    "### I.2 EDF的性质\n",
    "1. EDF是$I(X_i\\le x)$的均值，所以先看$I(X_i \\le x)$的性质 \\\n",
    "定义随机变量$Yi=I(X_i \\le x)$，有:\n",
    "$$Y_i=\\left\\{\\begin{matrix}\n",
    " 1, & if\\ X_i \\le  x\\\\\n",
    " 0, & if\\ X_i > x\n",
    "\\end{matrix}\\right.$$\n",
    "此时，Yi是伯努利分布，其参数$p=P(Y_i=1)=P(X_i \\le x)=F(x)$ \\\n",
    "因此，$$\n",
    "\\begin{align} \n",
    "  E(Y_i) & =p=F(x) \\\\\n",
    "Var(Y_i) & =p(1-p)=F(x)(1-F(x))\n",
    "\\end{align}\n",
    "$$\n",
    "因此，$$\\begin{align} \n",
    "E(I(X_i \\le x)) & = E(Y_i) = F(x) \\\\\n",
    "Var(I(X_i \\le x)) & = Var(Y_i)=F(x)(1-F(x))\n",
    "\\end{align}\n",
    "$$"
   ]
  },
  {
   "cell_type": "markdown",
   "id": "a6c6855c",
   "metadata": {},
   "source": [
    "2. $\\hat{F_n}(x)=\\frac{1}{n}{\\textstyle \\sum_{i=1}^{n}}I(X_i<x) \n",
    "$，带入$I(X_i \\le x)$的均值和方差，可以得到： \\\n",
    "$$\\begin{align} \n",
    "  E(\\hat F_n(x)) & = E(I(X_i<x)) =F(x)\\\\\n",
    "Var(\\hat F_n(x)) & = \\frac{{\\textstyle \\sum_{i=1}^{n}}Var(I(X_i<x))}{n^2}=\\frac{F(x)(1-F(x))}{n} \n",
    "\\end{align}$$"
   ]
  },
  {
   "cell_type": "markdown",
   "id": "3f5e0b87",
   "metadata": {},
   "source": [
    "3. $\\hat{F}_n(x)$作为估计量的性质：\\\n",
    "<font color=blue> (1) $\\hat F_n(x)$是$F(x)$的无偏估计。前文已经证明$E(\\hat F_n(x))=F(x)$ \\\n",
    "(2) $\\hat F_n(x)$依概率收敛到$F(x)$。\\\n",
    "$$\\hat F_n(x) \\overset{P}{\\rightarrow} F(x) ...①$$\n",
    "\\\n",
    "(3) $\\sqrt n(\\hat F_n(x)-F(x))$依分布收敛到均值为0，方差为$F(x)(1-F(x))$的正态分布。\\\n",
    "$$\\sqrt n(\\hat F_n(x)-F(x)) \\overset{D}{\\rightarrow}  N(0, F(x)(1-F(x))) ...②$$ </font>"
   ]
  },
  {
   "cell_type": "markdown",
   "id": "fda8170c",
   "metadata": {},
   "source": [
    "证明性质(2)：\\\n",
    "由切比雪夫不等式有：\n",
    "$$\n",
    "\\begin{align} \n",
    "P(|\\hat{F}_n(x)-F(x)|  \\ge \\epsilon ) &\\le \\frac{Var(\\hat{F}_n(x))}{\\epsilon^2}\n",
    "=\\frac{F(x)(1-F(x))}{n\\epsilon^2} \\\\\n",
    "\\therefore \\lim_{n \\to \\infty} P(|\\hat{F}_n(x)-F(x)| \\ge \\epsilon ) &\\le \\lim_{n \\to \\infty} \\frac{F(x)(1-F(x))}{n\\epsilon^2}=0\n",
    "\\end{align}\n",
    "$$\n",
    "得证"
   ]
  },
  {
   "cell_type": "markdown",
   "id": "efa56cbf",
   "metadata": {},
   "source": [
    "证明性质(3)：直接套用中心极限定律即可。"
   ]
  },
  {
   "cell_type": "markdown",
   "id": "14d237cc",
   "metadata": {},
   "source": [
    "## II. Statistical Functional\n",
    "### II.1 定义\n",
    "1. <font color=blue>**Functional** </font>：Functional是从函数域到实数域的映射。$T:F\\mapsto R$\n",
    "2. <font color=blue>**Statistical Functional** </font>：当Functional的input是CDF的时候，该Functional就成为Statistical Functional \\\n",
    "例子：\\\n",
    "(1)分布的均值(期望)：$$\n",
    "T_{mean}(F) =E(x)=\\int xdF(x)=\\left\\{\\begin{matrix}\n",
    "\\int xf(s)dx  & ，如果x是连续型随机变量\\\\\n",
    " {\\textstyle \\sum_{x}xp(x)}   & ，如果x是离散型随机变量\n",
    "\\end{matrix}\\right.\n",
    "$$\n",
    "(2)分布的方差：$T_{var}(F) = Var(x) = E(x^2) - E^2(x) = \\int x^2dF(x)-(\\int xdF(x))^2$ \\\n",
    "(3)分布的中位数：$T_{median}(F)=F^{-1}(0.5)$"
   ]
  },
  {
   "cell_type": "markdown",
   "id": "2771cf66",
   "metadata": {
    "ExecuteTime": {
     "end_time": "2023-11-06T15:20:33.659968Z",
     "start_time": "2023-11-06T15:20:33.653002Z"
    }
   },
   "source": [
    "3. <font color=blue>**Linear Functional** </font>：如果有Statistical functional$T(F)=\\int w(x)dF(x)$，则称该T为Linear Functional。 \\\n",
    "<font color=orange>这里线性体现在：$$\n",
    "T(aF+bG)=\\int w(x)d(aF(x)+bG(x))=a\\int w(x)dF(x)+b\\int w(x)dG(x)=aT(F) + bT(G)\n",
    "$$</font>\n",
    "例：$T_{mean}(F)$和$T_{var}(F)$都是linear functional"
   ]
  },
  {
   "cell_type": "markdown",
   "id": "f637dd9f",
   "metadata": {},
   "source": [
    "### II.2 用途\n",
    "1. Statistical Functional可以用于构造一种能够很方便地估计总体特征(population quantity)的估计量。详见后文的plug-in estimator。\n",
    "2. 是bootstrap方法的基础"
   ]
  },
  {
   "cell_type": "markdown",
   "id": "88d09750",
   "metadata": {},
   "source": [
    "## III. plug-in estimator: 用$\\hat{\\theta}_n=T(\\hat F_n)$估计$\\theta = T(F)$\n",
    "<font color=green>**出发点**：由EDF作为估计量的性质可知，$\\hat F_n$是$F(x)$的一个很好的估计量。将EDF plug-in到Statistical functional中得到$T(\\hat F_n)$，用它作为$\\theta = T(F)$的估计量，提供了一种非常简洁的参数估计方法。只是还需要证明该估计量有足够好的性质。 </font>"
   ]
  },
  {
   "cell_type": "markdown",
   "id": "c30bcfd3",
   "metadata": {},
   "source": [
    "### III.1 定义\n",
    "1. 定义：已知population quantity $\\theta = T(F)$，将估计量$\\hat{\\theta}_n=T(\\hat F_n)$称为$\\theta$的<font color=blue>plug-in estimator</font>。 \n",
    "2. 特征：一般而言，如果Statistical Functional T(·)相对input F 是smooth的话，plug-in estimator会有较好的一致性。因为$\\hat F_n \\overset{D}{\\rightarrow} F(x)$，如果T(F)smooth，那么$T(\\hat F_n)\\overset{D}{\\rightarrow} T(F)$。\\\n",
    "<font color=orange>（上述特征是数学上不严谨的描述，详细的smooth含义和对应性质的证明需要函数分析的内容，这里略过。）</font>"
   ]
  },
  {
   "cell_type": "markdown",
   "id": "a7f2e5e7",
   "metadata": {},
   "source": [
    "### III.2 例子\n",
    "1. **估 $T_{var}(\\hat{F}_n(x))$和$T_{var}(\\hat{F}_n(x))$**\n",
    "$$\n",
    "\\begin{align} \n",
    "T_{mean}(\\hat{F}_n(x)) & =\\int xd\\hat{F}_n(x)={\\textstyle \\sum_{i=1}^{n}} \\frac{X_i}{n} =\\bar X\n",
    "  \\\\\n",
    "T_{var}(\\hat{F}_n(x)) & =\\int x^2d\\hat{F}_n(x) - (\\int xd\\hat{F}_n(x))^2=\\frac{1}{n}{\\textstyle \\sum_{i=1}^{n}} X^2_i - \\bar X_n = {\\textstyle \\sum_{i=1}^{n}} (X_i - \\bar X_n)^2\n",
    "\\\\\n",
    "T_{med}(\\hat{F}_n(x)) & = \\hat F^{-1}_n(0.5)\n",
    "\\end{align}\n",
    "$$\n",
    "<font color=orange>可见，估计结果和MLE的估计结果相同。也体现了plug-in可能是有效的参数估计方式。</font>"
   ]
  },
  {
   "cell_type": "markdown",
   "id": "4d894a67",
   "metadata": {},
   "source": [
    "2. **linear function** \\\n",
    "取linear functional $T(F) = \\int w(x)dF(x)$，则其plug-in estimator为：\n",
    "$$T(\\hat{F}_n)=\\int w(x)d\\hat{F}_n(x)=\\frac{1}{n}{\\textstyle \\sum_{i=1}^{n}w(x_i)} $$ \n",
    "<font color=green>理解：求解左边等式是将$\\hat{F}_n(x)$作为一个分布(而不是原分布的EDF)来看，它是每个样本发生概率为$\\frac{1}{n}$的均匀分布。</font>"
   ]
  },
  {
   "cell_type": "markdown",
   "id": "2918f90b",
   "metadata": {},
   "source": [
    "### III.3 分析plug-in estimator的收敛性质\n",
    "#### 1. 用delta method（实际上一个定理）\n",
    "如果$$\n",
    " \\frac{\\sqrt n(Y_n - \\mu)}{\\sigma} \\overset{D}{\\rightarrow} N(0, 1)\n",
    "$$有可导函数$g(·)$，且$g^{'}(\\mu)\\ne0$，则：$$\n",
    " \\frac{\\sqrt n(g(Y_n) - g(\\mu))}{|g^{'}(\\mu)|\\sigma} \\overset{D}{\\rightarrow} N(0, 1)\n",
    "$$\n",
    "<font color=orange>理解：如果$Y_n$依分布收敛到正态分布，函数g是smoothing函数，那么可以用delta method来给$g(Y_n)$找到依分布收敛的正态分布。</font> \\\n",
    "可以简单表达为：$\n",
    "如果Y_n \\overset{D}{\\rightarrow} N(\\mu, \\frac{\\sigma^2}{n}) 则, \\ g(Y_n)\\overset{D}{\\rightarrow} N(g(\\mu), ((g^{'}(\\mu))^2)\\frac{\\sigma^2}{n})\n",
    "$"
   ]
  },
  {
   "cell_type": "markdown",
   "id": "4ad2a124",
   "metadata": {},
   "source": [
    "#### 2. 用influential function\n"
   ]
  }
 ],
 "metadata": {
  "kernelspec": {
   "display_name": "Python 3 (ipykernel)",
   "language": "python",
   "name": "python3"
  },
  "language_info": {
   "codemirror_mode": {
    "name": "ipython",
    "version": 3
   },
   "file_extension": ".py",
   "mimetype": "text/x-python",
   "name": "python",
   "nbconvert_exporter": "python",
   "pygments_lexer": "ipython3",
   "version": "3.10.12"
  }
 },
 "nbformat": 4,
 "nbformat_minor": 5
}
