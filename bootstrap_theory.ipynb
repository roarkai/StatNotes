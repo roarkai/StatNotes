{
 "cells": [
  {
   "cell_type": "markdown",
   "id": "cc308d09",
   "metadata": {},
   "source": [
    "# Theory behind bootstrap"
   ]
  },
  {
   "cell_type": "markdown",
   "id": "f5a80b99",
   "metadata": {},
   "source": [
    "## 要用到的概念和理论\n",
    "### 1. CDF和EDF\n",
    "#### I. 定义\n",
    "1. <font color=blue>**累积分布函数CDF(Cumulative Distribution Function)**</font>\\\n",
    "定义：随机变量X的CDF记为F(x)，含义是事件(event)$\\{X_i≤x\\}$发生的概率。\\\n",
    "用数学形式可以表达为：$F(x)=P(X_i ≤x)$ \\\n",
    "2. <font color=blue>**经验分布函数EDF(Empitical Distribution Function)**</font> \\\n",
    "思路：用事件在随机变量的样本中发生的比率作为该事件发生概率的估计量(estimator)。 \\\n",
    "定义：$\\hat{F}(x)$作为$F(x)$的估计量\n",
    "$$\\hat{F}(x) = \\frac{number\\ of\\ X_i<x }{total\\ number\\ of\\ observations}  = \\frac{ {\\textstyle \\sum_{i=1}^{n}}I(X_i<x) }{n}\n",
    "$$"
   ]
  },
  {
   "cell_type": "markdown",
   "id": "d3afc1ac",
   "metadata": {},
   "source": [
    "#### II. EDF的性质\n",
    "1. EDF是$I(X_i\\le x)$的均值，所以先看$I(X_i \\le x)$的性质 \\\n",
    "定义随机变量$Yi=I(X_i \\le x)$，有:\n",
    "$$Y_i=\\left\\{\\begin{matrix}\n",
    " 1, & if\\ X_i \\le  x\\\\\n",
    " 0, & if\\ X_i > x\n",
    "\\end{matrix}\\right.$$\n",
    "此时，Yi是伯努利分布，其参数$p=P(Y_i=1)=P(X_i \\le x)=F(x)$ \\\n",
    "因此，$$\n",
    "\\begin{align} \n",
    "  E(I(X_i \\le x)) & = E(Y_i)=p=F(x) \\\\\n",
    "Var(I(X_i \\le x)) & = Var(Y_i)=p(1-p)=F(x)(1-F(x))\n",
    "\\end{align}\n",
    "$$"
   ]
  },
  {
   "cell_type": "markdown",
   "id": "a6c6855c",
   "metadata": {},
   "source": [
    "2. $\\hat{F}(x)\\frac{1}{n}{\\textstyle \\sum_{i=1}^{n}}I(X_i<x) \n",
    "$，带入$I(X_i \\le x)$的均值和方差，可以得到： \\\n",
    "$$\\begin{align} \n",
    "  E(\\hat F(x)) & = E(I(X_i<x)) =F(x)\\\\\n",
    "Var(\\hat F(x)) & = \\frac{{\\textstyle \\sum_{i=1}^{n}}Var(I(X_i<x))}{n^2}=\\frac{F(x)(1-F(x))}{n} \n",
    "\\end{align}$$"
   ]
  },
  {
   "cell_type": "markdown",
   "id": "3f5e0b87",
   "metadata": {},
   "source": [
    "3. $\\hat{F}(x)$作为估计量的性质：\\\n",
    "(1) $\\hat F(x)$是$F(x)$的无偏估计。前文已经证明$E(\\hat F(x))=F(x)$ \\\n",
    "(2) $\\hat F(x)$依概率收敛到$F(x)$。\\\n",
    "$$\\hat F(x) \\overset{P}{\\rightarrow} F(x) ...①$$\n",
    "\\\n",
    "证明：\\\n",
    "$$\n",
    "\n",
    "$$"
   ]
  },
  {
   "cell_type": "markdown",
   "id": "efa56cbf",
   "metadata": {},
   "source": [
    "(3) $\\sqrt n(\\hat F(x)-F(x))$依分布收敛到均值为0，方差为$F(x)(1-F(x))$的正态分布。\\\n",
    "$$\\sqrt n(\\hat F(x)-F(x)) \\overset{D}{\\rightarrow}  N(0, F(x)(1-F(x))) ...②$$ \n",
    "证明：直接套用中心极限定律即可。"
   ]
  },
  {
   "cell_type": "code",
   "execution_count": null,
   "id": "2f9bd099",
   "metadata": {},
   "outputs": [],
   "source": []
  }
 ],
 "metadata": {
  "kernelspec": {
   "display_name": "Python 3 (ipykernel)",
   "language": "python",
   "name": "python3"
  },
  "language_info": {
   "codemirror_mode": {
    "name": "ipython",
    "version": 3
   },
   "file_extension": ".py",
   "mimetype": "text/x-python",
   "name": "python",
   "nbconvert_exporter": "python",
   "pygments_lexer": "ipython3",
   "version": "3.10.12"
  }
 },
 "nbformat": 4,
 "nbformat_minor": 5
}
