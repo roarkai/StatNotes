{
 "cells": [
  {
   "cell_type": "markdown",
   "id": "cc308d09",
   "metadata": {},
   "source": [
    "# Theory behind bootstrap"
   ]
  },
  {
   "cell_type": "markdown",
   "id": "f5a80b99",
   "metadata": {},
   "source": [
    "## I. 基本概念：CDF和EDF\n",
    "### I.1 定义\n",
    "1. <font color=blue>**累积分布函数CDF(Cumulative Distribution Function)**</font>\\\n",
    "定义：随机变量X的CDF记为F(x)，含义是事件(event)$\\{X_i≤x\\}$发生的概率。\\\n",
    "用数学形式可以表达为：$F(x)=P(X_i ≤x)$ \n",
    "2. <font color=blue>**经验分布函数EDF(Empitical Distribution Function)**</font> \\\n",
    "思路：用事件在随机变量的样本中发生的比率作为该事件发生概率的估计量(estimator)。 \\\n",
    "定义：$\\hat{F_n}(x)$作为$F(x)$的估计量\n",
    "$$\\hat{F_n}(x) = \\frac{number\\ of\\ X_i<x }{total\\ number\\ of\\ observations}  = \\frac{ {\\textstyle \\sum_{i=1}^{n}}I(X_i<x) }{n}\n",
    "$$"
   ]
  },
  {
   "cell_type": "markdown",
   "id": "d3afc1ac",
   "metadata": {},
   "source": [
    "### I.2 EDF的性质\n",
    "1. EDF是$I(X_i\\le x)$的均值，所以先看$I(X_i \\le x)$的性质 \\\n",
    "定义随机变量$Yi=I(X_i \\le x)$，有:\n",
    "$$Y_i=\\left\\{\\begin{matrix}\n",
    " 1, & if\\ X_i \\le  x\\\\\n",
    " 0, & if\\ X_i > x\n",
    "\\end{matrix}\\right.$$\n",
    "此时，Yi是伯努利分布，其参数$p=P(Y_i=1)=P(X_i \\le x)=F(x)$ \\\n",
    "因此，$$\n",
    "\\begin{align} \n",
    "  E(Y_i) & =p=F(x) \\\\\n",
    "Var(Y_i) & =p(1-p)=F(x)(1-F(x))\n",
    "\\end{align}\n",
    "$$\n",
    "因此，$$\\begin{align} \n",
    "E(I(X_i \\le x)) & = E(Y_i) = F(x) \\\\\n",
    "Var(I(X_i \\le x)) & = Var(Y_i)=F(x)(1-F(x))\n",
    "\\end{align}\n",
    "$$"
   ]
  },
  {
   "cell_type": "markdown",
   "id": "a6c6855c",
   "metadata": {},
   "source": [
    "2. $\\hat{F_n}(x)=\\frac{1}{n}{\\textstyle \\sum_{i=1}^{n}}I(X_i<x) \n",
    "$，带入$I(X_i \\le x)$的均值和方差，可以得到： \\\n",
    "$$\\begin{align} \n",
    "  E(\\hat F_n(x)) & = E(I(X_i<x)) =F(x)\\\\\n",
    "Var(\\hat F_n(x)) & = \\frac{{\\textstyle \\sum_{i=1}^{n}}Var(I(X_i<x))}{n^2}=\\frac{F(x)(1-F(x))}{n} \n",
    "\\end{align}$$"
   ]
  },
  {
   "cell_type": "markdown",
   "id": "3f5e0b87",
   "metadata": {},
   "source": [
    "3. $\\hat{F}_n(x)$作为估计量的性质：\\\n",
    "<font color=blue> (1) $\\hat F_n(x)$是$F(x)$的无偏估计。前文已经证明$E(\\hat F_n(x))=F(x)$ \\\n",
    "(2) $\\hat F_n(x)$依概率收敛到$F(x)$。\\\n",
    "$$\\hat F_n(x) \\overset{P}{\\rightarrow} F(x) ...①$$\n",
    "\\\n",
    "(3) $\\sqrt n(\\hat F_n(x)-F(x))$依分布收敛到均值为0，方差为$F(x)(1-F(x))$的正态分布。\\\n",
    "$$\\sqrt n(\\hat F_n(x)-F(x)) \\overset{D}{\\rightarrow}  N(0, F(x)(1-F(x))) ...②$$ </font>"
   ]
  },
  {
   "cell_type": "markdown",
   "id": "398fef8b",
   "metadata": {},
   "source": [
    "证明性质(2)：\\\n",
    "由切比雪夫不等式有：\n",
    "$$\n",
    "\\begin{align} \n",
    "P(|\\hat{F}_n(x)-F(x)|  \\ge \\epsilon ) &\\le \\frac{Var(\\hat{F}_n(x))}{\\epsilon^2}\n",
    "=\\frac{F(x)(1-F(x))}{n\\epsilon^2} \\\\\n",
    "\\therefore \\lim_{n \\to \\infty} P(|\\hat{F}_n(x)-F(x)| \\ge \\epsilon ) &\\le \\lim_{n \\to \\infty} \\frac{F(x)(1-F(x))}{n\\epsilon^2}=0\n",
    "\\end{align}\n",
    "$$\n",
    "得证"
   ]
  },
  {
   "cell_type": "markdown",
   "id": "efa56cbf",
   "metadata": {},
   "source": [
    "证明性质(3)：直接套用中心极限定律即可。"
   ]
  },
  {
   "cell_type": "markdown",
   "id": "64cc340a",
   "metadata": {},
   "source": [
    "## II. Statistical Functional\n",
    "### II.1 定义\n",
    "1. <font color=blue>**Functional** </font>：Functional是从函数域到实数域的映射。$T:F\\mapsto R$\n",
    "2. <font color=blue>**Statistical Functional** </font>：当Functional的input是CDF的时候，该Functional就成为Statistical Functional \\\n",
    "例子：\\\n",
    "(1)分布的均值(期望)：$$\n",
    "T_{mean}(F) =E(x)=\\int xdF(x)=\\left\\{\\begin{matrix}\n",
    "\\int xf(s)dx  & ，如果x是连续型随机变量\\\\\n",
    " {\\textstyle \\sum_{x}xp(x)}   & ，如果x是离散型随机变量\n",
    "\\end{matrix}\\right.\n",
    "$$\n",
    "(2)分布的方差：$T_{var}(F) = Var(x) = E(x^2) - E^2(x) = \\int x^2dF(x)-(\\int xdF(x))^2$ \\\n",
    "(3)分布的中位数：$T_{median}(F)=F^{-1}(0.5)$"
   ]
  },
  {
   "cell_type": "markdown",
   "id": "c02f76e9",
   "metadata": {
    "ExecuteTime": {
     "end_time": "2023-11-06T15:20:33.659968Z",
     "start_time": "2023-11-06T15:20:33.653002Z"
    }
   },
   "source": [
    "3. <font color=blue>**Linear Functional** </font>：如果有Statistical functional$T(F)=\\int w(x)dF(x)$，则称该T为Linear Functional。 \\\n",
    "<font color=orange>这里线性体现在：$$\n",
    "T(aF+bG)=\\int w(x)d(aF(x)+bG(x))=a\\int w(x)dF(x)+b\\int w(x)dG(x)=aT(F) + bT(G)\n",
    "$$</font>\n",
    "例：$T_{mean}(F)$和$T_{var}(F)$都是linear functional"
   ]
  },
  {
   "cell_type": "markdown",
   "id": "8402b705",
   "metadata": {},
   "source": [
    "### II.2 用途\n",
    "1. Statistical Functional可以用于构造一种能够很方便地估计总体特征(population quantity)的估计量。详见后文的plug-in estimator。\n",
    "2. 是bootstrap方法的基础"
   ]
  },
  {
   "cell_type": "markdown",
   "id": "4a3a3a87",
   "metadata": {},
   "source": [
    "## III. plug-in estimator: 用$\\hat{\\theta}_n=T(\\hat F_n)$估计$\\theta = T(F)$\n",
    "<font color=green>**出发点**：由EDF作为估计量的性质可知，$\\hat F_n$是$F(x)$的一个很好的估计量。将EDF plug-in到Statistical functional中得到$T(\\hat F_n)$，用它作为$\\theta = T(F)$的估计量，提供了一种非常简洁的参数估计方法。只是还需要证明该估计量有足够好的性质。 </font>"
   ]
  },
  {
   "cell_type": "markdown",
   "id": "e7cfb244",
   "metadata": {},
   "source": [
    "### III.1 定义\n",
    "1. 定义：已知population quantity $\\theta = T(F)$，将估计量$\\hat{\\theta}_n=T(\\hat F_n)$称为$\\theta$的<font color=blue>plug-in estimator</font>。 \n",
    "2. 特征：一般而言，如果Statistical Functional T(·)相对input F 是smooth的话，plug-in estimator会有较好的一致性。因为$\\hat F_n \\overset{D}{\\rightarrow} F(x)$，如果T(F)smooth，那么$T(\\hat F_n)\\overset{D}{\\rightarrow} T(F)$。\\\n",
    "<font color=orange>（上述特征是数学上不严谨的描述，详细的smooth含义和对应性质的证明需要函数分析的内容，这里略过。）</font>"
   ]
  },
  {
   "cell_type": "markdown",
   "id": "6cf6b2f3",
   "metadata": {},
   "source": [
    "### III.2 例子\n",
    "1. **估 $T_{var}(\\hat{F}_n(x))$和$T_{var}(\\hat{F}_n(x))$**\n",
    "$$\n",
    "\\begin{align} \n",
    "T_{mean}(\\hat{F}_n(x)) & =\\int xd\\hat{F}_n(x)={\\textstyle \\sum_{i=1}^{n}} \\frac{X_i}{n} =\\bar X\n",
    "  \\\\\n",
    "T_{var}(\\hat{F}_n(x)) & =\\int x^2d\\hat{F}_n(x) - (\\int xd\\hat{F}_n(x))^2=\\frac{1}{n}{\\textstyle \\sum_{i=1}^{n}} X^2_i - \\bar X_n = {\\textstyle \\sum_{i=1}^{n}} (X_i - \\bar X_n)^2\n",
    "\\\\\n",
    "T_{med}(\\hat{F}_n(x)) & = \\hat F^{-1}_n(0.5)\n",
    "\\end{align}\n",
    "$$\n",
    "<font color=orange>可见，估计结果和MLE的估计结果相同。也体现了plug-in可能是有效的参数估计方式。</font>"
   ]
  },
  {
   "cell_type": "markdown",
   "id": "e0f8a10f",
   "metadata": {},
   "source": [
    "2. **linear function** \\\n",
    "取linear functional $T(F) = \\int w(x)dF(x)$，则其plug-in estimator为：\n",
    "$$T(\\hat{F}_n)=\\int w(x)d\\hat{F}_n(x)=\\frac{1}{n}{\\textstyle \\sum_{i=1}^{n}w(x_i)} $$ \n",
    "<font color=green>理解1：求解左边等式是将$\\hat{F}_n(x)$作为一个分布(而不是原分布的EDF)来看，它是每个样本发生概率为$\\frac{1}{n}$的均匀分布。</font> \\\n",
    "<font color=green>理解2：$T(\\hat{F}_n)$天然是函数$w(x)$的样本均值。因此可以利用大数定律和中心极限定律获得一些很好的性质。</font><font color=red>[详见后文influence function]</font>"
   ]
  },
  {
   "cell_type": "markdown",
   "id": "335fbba4",
   "metadata": {},
   "source": [
    "### III.3 分析plug-in estimator的收敛性质"
   ]
  },
  {
   "cell_type": "markdown",
   "id": "5ab27059",
   "metadata": {},
   "source": [
    "#### III.3.1 用delta method（实际上是一个定理）\n",
    "1. **用delta method找$T(\\hat F)$依分布收敛的特征** \\\n",
    "<font color=orange>理解：如果$Y_n$依分布收敛到正态分布，函数g是smoothing函数，那么可以用delta method来给$g(Y_n)$找到依分布收敛的正态分布。</font> \\\n",
    "可以简单表达为：$$如果Y_n - \\mu \\overset{D}{\\rightarrow} N(0, \\frac{\\sigma^2}{n}) 则, \\ g(Y_n)-g(\\mu)\\overset{D}{\\rightarrow} N(0, g^{'}(\\mu)^2\\frac{\\sigma^2}{n})$$\n",
    "<font color=green>用于plug-in estimator时：</font>\\\n",
    "$$\n",
    "\\begin{align} \n",
    "& \\because \\hat F_n(x)-F(x)  \\overset{D}{\\rightarrow}  N(0, Var(\\hat F_n(x)))  \\\\\n",
    "& \\therefore \\hat \\theta -\\theta =T(\\hat F_n)-T(F) \\overset{D}{\\rightarrow}  N(0, T^{'}(F)^2*Var(\\hat F_n(x))) \\\\ \n",
    "& \\therefore Var(\\hat \\theta) = T^{'}(F)^2*Var(\\hat F_n(x))，其中，Var(\\hat F_n(x))=\\frac{F(x)(1-F(x))}{n}\n",
    "\\end{align}\n",
    "$$\n",
    "<font color=red>这里实际应用的难点是求：$T^{'}(F)$，因为很难直接对F求导，因此delta method通常不直接用g(·)=T(·)</font>\n",
    "2. 例：$T(F)$取F期望值的倒数，即：$\\theta = T_{inv}(F)=\\frac{1}{E(X)}=\\frac{1}{\\int xdF(x)}$。用plug-in estimator做估计，$\\hat \\theta = T_{inv}(\\hat F_n)=\\frac{1}{\\int xd\\hat F_n(x)}=\\frac{1}{\\bar X_n}$。分析plug-in estimator的收敛性质。\\\n",
    "分析：<font color=orange>直接用delta method的话，需要对应取$g(x)=T(x),Y_n=\\hat F_n$，但此时无法求解$T_{inv}^{'}(\\hat F_n)$，换一种方式：取$g(x)=\\frac{1}{x},Y_n=\\bar X_n$</font>\n",
    "$$\n",
    "\\begin{align} \n",
    "& \\hat \\theta -\\theta =\\frac{1}{\\bar X_n} -\\frac{1}{EX}=g(\\bar X_n)-g(EX) \\\\\n",
    "& g^{'}(EX) = -\\frac{1}{E^2X} \\\\\n",
    "\\because \\ & \\bar{X}_n-EX \\overset{D}{\\rightarrow} N(0, Var(\\bar{X}_n)) = N(0, \\frac{Var(X)}{n})  \\\\\n",
    "\\therefore \\ & \\hat \\theta -\\theta\\overset{D}{\\rightarrow} N(0,(g^{'}(EX))^2\\frac{Var(X)}{n}) = N(0, \\frac{1}{E^4X}\\frac{Var(X)}{n})\n",
    "\\end{align}\n",
    "$$这里EX和Var(X)都有对应的一致估计量，带入可以得到$\\hat \\theta$的方差。\n",
    "3. <font color=red>**使用限制**：由于上述限制，delta method通常只用于T(F)可以表达为E(X)的函数的场景。因此使用范围有限。</font>"
   ]
  },
  {
   "cell_type": "markdown",
   "id": "0a3b738d",
   "metadata": {},
   "source": [
    "#### III.3.2 用influential function分析linear function的收敛性质\n",
    "1. 简单版定义 \\\n",
    "有两个linear function：$$\n",
    "\\begin{align} \n",
    "& T(F)=\\int w(x)dF(x),\\ T(G)=\\int w(x)dG(x) \\\\\n",
    "& T(G)-T(F) = \\int w(x)dG(x) - T(F)\\int dG(x) = \\int w(x)- T(F)dG(x) \n",
    "\\end{align}\n",
    "$$\n",
    "将$L_F(x)=w(x)- T(F)$定义为functional T的influence function。有：$$\n",
    "T(G)-T(F) = \\int L_F(x)dG(x) \n",
    "$$<font color=blue>典型应用场景：$T(\\hat F_n)-T(F) = \\int L_F(x)d\\hat F_n(x) $</font> \\\n",
    "<font color=red>注：此时，$d\\hat F_n(x)$中的$F_n$不是EDF，而是各个样本发生概率1/n的一个均匀分布的CDF，理解这个问题便于理解后面性质④证明中用到的积分运算。</font>"
   ]
  },
  {
   "cell_type": "markdown",
   "id": "398babcf",
   "metadata": {},
   "source": [
    "2. $F(x)$是x的分布函数，取$T(F)=\\int w(x)dF(x)$，<font color=blue>有以下性质：\n",
    "$$\\begin{align}\n",
    "& T(F)=E(w(x)|F) ...① \\ \\ 这里用w(x)|F表示w(x)的x的分布函数是F \\\\\n",
    "& T(\\hat{F}_n)=\\int w(x)d\\hat{F}_n(x)=\\frac{1}{n}{\\textstyle \\sum_{i=1}^{n}w(x_i)} ...② \\\\\n",
    "& Var(w(x)|F)= \\int L^2_F(x)dF(x) =\\int w^2dF(x)-T^2(F) ...③  \\\\\n",
    "& Var(w(x)|\\hat F_n)= \\int L^2_\\hat F(x)d\\hat F_n(x) = \\int w^2d\\hat F_n(x)-T^2(\\hat F_n) ...④\n",
    "\\end{align}\n",
    "$$</font>\n",
    "证明性质③：这里用w简单表示w(x)$$\\begin{align} \n",
    "Var(w|F)&  =E(w^2|F)-(E(w|F))^2=\\int w^2dF(x)-(\\int wdF(x))^2  \\\\\n",
    "& =\\int w^2dF(x)-T^2(F) \\\\\n",
    "\\int L^2_F(x)dF(x) & =\\int (w-T(F))^2dF(x)=\\int (w^2-2wT(F)+T^2(F))dF(x) \\\\\n",
    "& =\\int w^2dF(x)-T^2(F)\n",
    "\\end{align}\n",
    "$$\n",
    "证明性质④：这里用w简单表示w(x)$$\\begin{align} \n",
    "Var(w|\\hat F_n)&  =E(w^2|\\hat F_n)-(Ew|\\hat F_n)^2=\\int w^2d\\hat F_n(x)-(\\int wd\\hat F_n(x))^2  \\\\\n",
    "& =\\int w^2d\\hat F_n(x)-T^2(\\hat F_n) \\\\\n",
    "\\int L^2_{\\hat F_n}(x)d\\hat F_n(x) & =\\int (w-T(\\hat F_n))^2d\\hat F_n(x)=\\int (w^2-2wT(\\hat F_n)+T^2(\\hat F_n))d\\hat F_n(x) \\\\\n",
    "& =\\int w^2d\\hat F_n(x)-T^2(\\hat F_n)\n",
    "\\end{align}$$"
   ]
  },
  {
   "cell_type": "markdown",
   "id": "c283ebc1",
   "metadata": {},
   "source": [
    "3. **用influential function找$T(\\hat F)$的收敛特征** \\\n",
    "<font color=blue>定理：如果$\\int w^2(x)dF(x)<\\infty$,则：$$\n",
    "\\sqrt n(\\hat T(F_n)-T(F))\\overset{D}{\\rightarrow} N(0,Var(w(x)|F)) $$\n",
    "其中，$Var(w(x)|F)=\\int L^2_F(x)dF(x)$，有$Var(w(x)|\\hat F_n)=\\frac{1}{n} {\\textstyle \\sum_{i=1}^{n}} L^2_F(X)$是$Var(w(x)|F)$的一致估计量。</font> \\\n",
    "证明：\\\n",
    "<font color=green>第1步：证明$E(L_F(x_i))=0$ </font>\n",
    "$$\n",
    "\\begin{align} \n",
    "& T(\\hat F_n) - T(F) = \\int L_F(x)d\\hat{F}_n(x)=\\frac{1}{n} {\\textstyle \\sum_{i=1}^{n}}L_F(x_i)  \\\\\n",
    "& E(L_F(x_i)) = \\int L_F(x)dF(x)=\\int w(x)-T(F)dF(x)=T(F)-T(F)=0 \\\\\n",
    "\\end{align}$$\n",
    "<font color=green>第2步：证明$T(\\hat F_n) - T(F)$依概率收敛到正态分布。 </font> \\\n",
    "根据中心极限定律：利用了$T(\\hat{F}_n)$是函数$w(x)$的样本均值，$T(F)$是w(x)的总体均值的特点。\n",
    "$$ \\sqrt n(T(\\hat F_n) - T(F))\\overset{D}{\\rightarrow} N(0,Var(w(x)|F)) $$ \n",
    "根据前面性质③，$Var(w(x)|F) = \\int L^2_F(x)dF(x)$ \\\n",
    "<font color=green>第3步：证明$Var(w(x)|\\hat F_n)\\overset{P}{\\rightarrow}Var(w(x)|F)$，从而可以用$Var(w(x)|\\hat F_n)$来估计$Var(w(x)|F)$</font> \\\n",
    "根据大数定律：当$E(|w(x)|F|)<\\infty $时，$T(\\hat F_n) \\overset{P}{\\rightarrow} T(F)$，这里$T(\\hat F_n)$是样本均值，它收敛到总体均值$T(F)$。\\\n",
    "根据收敛性质：$T^2(\\hat F_n) \\overset{P}{\\rightarrow} T^2(F)$ \\\n",
    "同样根据大数定律：当$E(w^2(x)|F)<\\infty $时，$\\int w^2(x)d\\hat F_n(x) \\overset{P}{\\rightarrow} \\int w^2(x)dF(x)$ \\\n",
    "可见：<font color=blue>$$\\begin{align} \n",
    "\\int w^2d\\hat F_n(x)-T^2(\\hat F_n) & \\overset{P}{\\rightarrow} \\int w^2dF(x)-T^2(F) \\\\\n",
    "Var(w(x)|\\hat F_n) & \\overset{P}{\\rightarrow}  Var(w(x)|F)\n",
    "\\end{align}$$</font>"
   ]
  },
  {
   "cell_type": "markdown",
   "id": "21052859",
   "metadata": {},
   "source": [
    "#### III.3.3 用influential function分析non-linear function的收敛性质\n",
    "1. influential function的正式定义：\n",
    "$\\delta_x$是x点处的一个point mass，influence function for a Statistical functional $T_{target}$是： $$\n",
    "L_F(x)=\\lim_{\\epsilon  \\to \\infty} \\frac{T_{target}((1-\\epsilon)F+\\epsilon \\delta_x)-T_{target}(F)}{\\epsilon }$$\n",
    "说明：\\\n",
    "(1)<font color=red>本质上，influential function的定义是一个函数相对于另一个函数的导数。这里就是$\\frac{dT_{target}}{dF}$</font> \\\n",
    "(2)$\\delta_x$是x点处的一个point mass是指：$\\delta_x$是x点处概率1，其他位置概率0的mass point\n",
    "2. 当T(F)是linear function的时候，该极限的求解结果就得到$L_F(x)=w(x)- T(F)$ \\\n",
    "证明：\\\n",
    "当$T_{target}(F)=\\int w(x)dF(x)$时，按照定义：$$\\begin{align} \n",
    "L_F(x)& =\\lim_{\\epsilon  \\to \\infty} \\frac{T_{target}((1-\\epsilon)F+\\epsilon \\delta_x)-T_{target}(F)}{\\epsilon} \\\\\n",
    "& = \\lim_{\\epsilon  \\to \\infty} \\frac{\\int w(x)d((1-\\epsilon)F+\\epsilon \\delta_x)-\\int w(w)dF}{\\epsilon }\\\\\n",
    "& = \\lim_{\\epsilon  \\to \\infty} \\frac{\\int w(x)d(F-\\epsilon F+\\epsilon \\delta_x)-\\int w(w)dF}{\\epsilon } \\\\\n",
    "& = \\lim_{\\epsilon  \\to \\infty} \\frac{-\\epsilon\\int w(x)dF+\\epsilon\\int w(x)d\\delta_x}{\\epsilon } \\\\\n",
    "& = -\\int w(x)dF+w(x)\\int d\\delta_x \\\\\n",
    "& = -T_{target}(F)+w(x)\n",
    "\\end{align}$$"
   ]
  },
  {
   "cell_type": "markdown",
   "id": "bc0ce954",
   "metadata": {},
   "source": [
    "3. 性质：当Statistical functional$T_{target}$是smooth的时候，有：$$\\begin{align} \n",
    "& Var(target|\\hat F_n) = \\int L^2_\\hat F(x)d\\hat F_n(x) \\\\\n",
    "& Var(target|F) = \\int L^2_F(x)dF(x) \\\\\n",
    "注： \\\\\n",
    "& Var(target|\\hat F_n)对应linear function中的Var(w(x)|\\hat F_n) \\\\\n",
    "& Var(target|F)对应linear function中的Var(w(x)|F) \\\\\n",
    "非线性时没有：\\\\\n",
    "& \\int w^2d\\hat F_n(x)和\\int w^2dF(x)\n",
    "\\end{align}$$（证明略）"
   ]
  },
  {
   "cell_type": "markdown",
   "id": "6574a37d",
   "metadata": {},
   "source": [
    "4. 例：T(F)是求分布F(x)的中位数，记为$T_{med}(F)=F^{-1}(0.5)$\\\n",
    "此时，influence function是(过程略)：$$L_F(x)=\\frac{1}{2p(F^{-1}(0.5))} $$\n",
    "$p$是F的pdf(概率密度函数)，$p(F^{-1}(0.5))$是一个常数。\\\n",
    "<font color=blue>**性质**:样本中位数渐进收敛到正态分布，且其方差有限，中位数的样本方差是其总体方差的一致估计。</font>\\\n",
    "(1)由于$L^2_F(x)=\\frac{1}{(2p(F^{-1}(0.5)))^2}<\\infty$，所以$Var(med|F)=\\int L^2_F(x)dF(x)<\\infty $ \\\n",
    "由中心极限定理：\\\n",
    "$$\\sqrt n(T_{med}(\\hat F_n)-T_{med}(F)) \\overset{D}{\\rightarrow} N(0, Var(med|F))$$\n",
    "(2)由于$E(L^2_F(x))=\\frac{1}{(2p(F^{-1}(0.5)))^2}<\\infty$，\\\n",
    "由大数定律：$\\int L^2_\\hat F(x)d\\hat F_n(x) \\overset{P}{\\rightarrow} \\int L^2_F(x)dF(x)$，即$$Var(med|\\hat F_n) \\overset{P}{\\rightarrow} Var(med|F)$$"
   ]
  }
 ],
 "metadata": {
  "kernelspec": {
   "display_name": "Python 3 (ipykernel)",
   "language": "python",
   "name": "python3"
  },
  "language_info": {
   "codemirror_mode": {
    "name": "ipython",
    "version": 3
   },
   "file_extension": ".py",
   "mimetype": "text/x-python",
   "name": "python",
   "nbconvert_exporter": "python",
   "pygments_lexer": "ipython3",
   "version": "3.10.12"
  }
 },
 "nbformat": 4,
 "nbformat_minor": 5
}
