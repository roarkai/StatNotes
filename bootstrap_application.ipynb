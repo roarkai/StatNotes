{
 "cells": [
  {
   "cell_type": "markdown",
   "id": "a2228ff5",
   "metadata": {},
   "source": [
    "# Bootstrap\n",
    "1. 定义：一种resampling method。方式是：independently sampling with replacement from an existing sample data with same sample size n, and performing inference among these resampled data. \\\n",
    "2. 流程图示\n",
    "<img src=\"./pics/BootstrapSteps.png\" style=\"zoom:100%\">"
   ]
  },
  {
   "cell_type": "code",
   "execution_count": 1,
   "id": "7da8c201",
   "metadata": {
    "ExecuteTime": {
     "end_time": "2023-11-04T13:20:47.025152Z",
     "start_time": "2023-11-04T13:20:46.672891Z"
    }
   },
   "outputs": [],
   "source": [
    "import numpy as np\n",
    "import matplotlib.pyplot as plt"
   ]
  },
  {
   "cell_type": "raw",
   "id": "958df5c9",
   "metadata": {},
   "source": [
    "例子：实验室有100个学生，想统计他们没人每天要打开多少次手机。只有30个学生自愿报名参加统计，安装了用于统计开机次数的app。1天之后，用他们的数据计算得到平均开机次数是228.06次。"
   ]
  },
  {
   "cell_type": "code",
   "execution_count": 20,
   "id": "21adf05a",
   "metadata": {
    "ExecuteTime": {
     "end_time": "2023-11-04T13:40:35.188354Z",
     "start_time": "2023-11-04T13:40:35.185049Z"
    }
   },
   "outputs": [
    {
     "name": "stdout",
     "output_type": "stream",
     "text": [
      "252.70 144.25\n"
     ]
    }
   ],
   "source": [
    "# 生成100个学生的总体数据\n",
    "np.random.seed(42)\n",
    "pickups = np.random.randint(0,500 , size=100)\n",
    "print(f\"{pickups.mean():.2f}\", f\"{pickups.std():.2f}\")"
   ]
  },
  {
   "cell_type": "code",
   "execution_count": 18,
   "id": "d3f8a258",
   "metadata": {
    "ExecuteTime": {
     "end_time": "2023-11-04T13:40:07.639383Z",
     "start_time": "2023-11-04T13:40:07.635834Z"
    }
   },
   "outputs": [
    {
     "name": "stdout",
     "output_type": "stream",
     "text": [
      "203.90\n",
      "28.18\n"
     ]
    }
   ],
   "source": [
    "# 从总体中抽样30个\n",
    "sample = np.random.choice(pickups, size=30)\n",
    "# 计算样本的均值和标准差，完成对总体均值的一次点估计\n",
    "sample_mean = sample.mean()\n",
    "print(f\"{sample_mean:.2f}\")\n",
    "# 该点估计的measure of accuracy：用均值的标准差来衡量\n",
    "sample_std = np.std(sample, ddof=1)/(30 ** 0.5)\n",
    "print(f\"{sample_std:.2f}\")\n",
    "# 抽样数量30，可以用CLT，近似假设估计量服从正态分布。由此可以计算置信区间"
   ]
  },
  {
   "cell_type": "markdown",
   "id": "3184c2d5",
   "metadata": {},
   "source": [
    "上述估计可行有两个前提：\n",
    "1. 估计的是样本均值，该估计量的样本方法非常好估。但很多时候the standard error of a estimate是很难直接计算的\n",
    "2. 可以用大数定律来得到估计量的置信区间。但实践中正态分布的假设并不成立。 \\\n",
    "此时，需要其他方法。"
   ]
  },
  {
   "cell_type": "code",
   "execution_count": null,
   "id": "b9a3ff8a",
   "metadata": {},
   "outputs": [],
   "source": []
  },
  {
   "cell_type": "code",
   "execution_count": null,
   "id": "afbbff44",
   "metadata": {},
   "outputs": [],
   "source": []
  },
  {
   "cell_type": "code",
   "execution_count": null,
   "id": "bf6853f0",
   "metadata": {},
   "outputs": [],
   "source": []
  }
 ],
 "metadata": {
  "kernelspec": {
   "display_name": "Python 3 (ipykernel)",
   "language": "python",
   "name": "python3"
  },
  "language_info": {
   "codemirror_mode": {
    "name": "ipython",
    "version": 3
   },
   "file_extension": ".py",
   "mimetype": "text/x-python",
   "name": "python",
   "nbconvert_exporter": "python",
   "pygments_lexer": "ipython3",
   "version": "3.10.12"
  }
 },
 "nbformat": 4,
 "nbformat_minor": 5
}
