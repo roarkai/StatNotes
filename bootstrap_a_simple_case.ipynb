{
 "cells": [
  {
   "cell_type": "markdown",
   "id": "9edfd14d",
   "metadata": {},
   "source": [
    "# Bootstrap方法\n",
    "## I. Bootstrap sample方法的用法示例\n",
    "### I.1 一个引导案例\n",
    "实验室有100个学生，想统计他们每人每天要开多少次手机。只有30个学生自愿报名参加统计，安装了用于统计开屏次数的app。1天之后，用他们的数据计算得到平均开屏次数是228.06次。"
   ]
  },
  {
   "cell_type": "code",
   "execution_count": 1,
   "id": "21adf05a",
   "metadata": {
    "ExecuteTime": {
     "end_time": "2023-11-09T09:04:02.298045Z",
     "start_time": "2023-11-09T09:04:01.940270Z"
    }
   },
   "outputs": [
    {
     "name": "stdout",
     "output_type": "stream",
     "text": [
      "252.70 144.25\n"
     ]
    }
   ],
   "source": [
    "import numpy as np\n",
    "import matplotlib.pyplot as plt\n",
    "\n",
    "# 生成100个学生的总体数据\n",
    "np.random.seed(42)\n",
    "pickups = np.random.randint(0,500 , size=100)\n",
    "print(f\"{pickups.mean():.2f}\", f\"{pickups.std():.2f}\")"
   ]
  },
  {
   "cell_type": "code",
   "execution_count": 2,
   "id": "d3f8a258",
   "metadata": {
    "ExecuteTime": {
     "end_time": "2023-11-09T09:04:02.303871Z",
     "start_time": "2023-11-09T09:04:02.299885Z"
    }
   },
   "outputs": [
    {
     "name": "stdout",
     "output_type": "stream",
     "text": [
      "228.07\n",
      "30.48\n",
      "[168.31761045 287.81572289]\n"
     ]
    }
   ],
   "source": [
    "# 从总体中抽样30个\n",
    "n = 30\n",
    "sample = np.random.choice(pickups, size=n)\n",
    "\n",
    "# 计算sample mean,对总体均值做点估计\n",
    "sample_mean = sample.mean()\n",
    "print(f\"{sample_mean:.2f}\")\n",
    "\n",
    "# measure of accuracy：用sample mean的标准差来衡量   \n",
    "sample_std = np.std(sample, ddof=1)/np.sqrt(len(sample))\n",
    "print(f\"{sample_std:.2f}\")\n",
    "\n",
    "# 抽样数量达到n=30，已经可以用CLT，用正态分布算置信区间\n",
    "confidence_in = sample_mean + np.array([-1, 1]) * sample_std * 1.96\n",
    "print(f\"{confidence_in}\")"
   ]
  },
  {
   "cell_type": "markdown",
   "id": "3184c2d5",
   "metadata": {},
   "source": [
    "1. 上面案例中的估计量是样本均值$\\bar X_n$。在计算出样本均值后，衡量该估计量的准确性的常用指标：估计量的方差$Var(\\bar X_n)$和对应的总体统计量的置信区间都很好计算。\n",
    "2. 但很多时候the standard error of a estimate是很难直接计算的。比如当估计量是样本中位数的时候，就无法直接得到估计量的方差和置信区间。这时候一种很方便的方法是Bootstrap sample。"
   ]
  },
  {
   "cell_type": "markdown",
   "id": "a2228ff5",
   "metadata": {},
   "source": [
    "### I.2 Empirical Bootstrap方法\n",
    "1. 定义：Empirical Bootstrap又称<font color=red>Efron's bootstrap，或nonparametric bootstrap</font>，是一种resampling method。具体方式是：independently sampling with replacement from an existing sample data with same sample size n, and performing inference among these resampled data. "
   ]
  },
  {
   "cell_type": "markdown",
   "id": "4e4335bc",
   "metadata": {},
   "source": [
    "2. Bootstrap sample过程 \\\n",
    "有抽样样本$\\{X_1, X_2, ..., X_n\\}$，用它做有放回抽样，每轮抽n个样本$\\{X^{*(k)}_1, X^{*(k)}_2, ..., X^{*(k)}_n\\}$，一共抽B轮，即$k=(1, 2, ..., B)$。得到的B个bootstrap sample sets: $$\\begin{align} \n",
    "& \\{X^{*(1)}_1, X^{*(1)}_2, ..., X^{*(1)}_n\\} \\\\\n",
    "& \\{X^{*(2)}_1, X^{*(2)}_2, ..., X^{*(2)}_n\\}\\\\\n",
    "& ...\\\\\n",
    "& \\{X^{*(B)}_1, X^{*(B)}_2, ..., X^{*(B)}_n\\} \n",
    "\\end{align}$$\n",
    "<img src=\"./pics/BootstrapSteps.png\" style=\"zoom:40%\">"
   ]
  },
  {
   "cell_type": "markdown",
   "id": "75eb0c29",
   "metadata": {},
   "source": [
    "3. 计算Bootstrap estimates \\\n",
    "以中位数为例：$M_n=median\\{X_1, X_2, ..., X_n\\}$为原样本中位数。\\\n",
    "从上面的bootstrap sample sets中可以得到：$$\\begin{align} \n",
    "& M^{*(1)}_n = median\\{X^{*(1)}_1, X^{*(1)}_2, ..., X^{*(1)}_n\\} \\\\\n",
    "& M^{*(2)}_n = median\\{X^{*(2)}_1, X^{*(2)}_2, ..., X^{*(2)}_n\\}\\\\\n",
    "& ...\\\\\n",
    "& M^{*(B)}_n = median\\{X^{*(B)}_1, X^{*(B)}_2, ..., X^{*(B)}_n\\} \n",
    "\\end{align}$$\n",
    "用他们可以计算各种Bootstrap estimates: \\\n",
    "(1) <font color=green>用$\\hat {Var}_B(M^*_n)$估计</font> <font color=blue>**$Var(M_n)$样本中位数的方差**</font>\n",
    "$$\n",
    "\\bar M^*_B=\\frac{1}{B} {\\textstyle \\sum_{k=1}^{B}}M^{*(k)}_n \\\\\n",
    "\\hat {Var}_B(M^*_n) = \\frac{1}{B-1} {\\textstyle \\sum_{k=1}^{B}} (M^{*(k)}_n-\\bar M^*_B)^2\n",
    "$$ \n",
    "$\\hat {Var}_B(M_n)$称为bootstrap estimate of the variance，也就是样本中位数方差的Bootstrap估计量。\\\n",
    "(2) <font color=green>用$\\hat {MSE}_B(M^*_n)$估计</font><font color=blue>**MSE：用样本中位数估总体中位数的MSE**</font>\n",
    "$$\\hat {MSE}_B(M^*_n) = \\frac{1}{B} {\\textstyle \\sum_{k=1}^{B}} (M^{*(k)}_n-M_n)^2\n",
    "$$\n",
    "$\\hat {MSE}_B(M^*_n)$称为bootstrap estimate of MSE，也就是样本中位数的MSE的Bootstrap估计量。\\\n",
    "(3) <font color=red>**总体中位数**</font><font color=green>的置信水平为$1-\\alpha$的置信区间为：</font>\n",
    "$$\\begin{align}\n",
    "& M_n \\pm z_{1-\\alpha/2}·\\sqrt{\\hat {Var}_B(M^*_n)}\\\\\n",
    "& z_{1-\\alpha/2}是标准正态分布的置信度为（1-\\alpha/2）的置信区间的边界\\end{align}\n",
    "$$ 该区间称为bootstrap confidence interval，也就是样本中位数的Bootstrap置信区间。"
   ]
  },
  {
   "cell_type": "markdown",
   "id": "14958ee6",
   "metadata": {},
   "source": [
    "### I.3 用Empirical Bootstrap处理样例中估计样本中位数的情况"
   ]
  },
  {
   "cell_type": "code",
   "execution_count": 3,
   "id": "cfb16f64",
   "metadata": {
    "ExecuteTime": {
     "end_time": "2023-11-09T09:04:02.318031Z",
     "start_time": "2023-11-09T09:04:02.305080Z"
    }
   },
   "outputs": [
    {
     "name": "stdout",
     "output_type": "stream",
     "text": [
      "190.5\n"
     ]
    }
   ],
   "source": [
    "# 计算样本中位数，因此作为总体总位数的估计量\n",
    "sample_median = np.median(sample)\n",
    "print(sample_median)"
   ]
  },
  {
   "cell_type": "code",
   "execution_count": 4,
   "id": "28849d26",
   "metadata": {
    "ExecuteTime": {
     "end_time": "2023-11-09T09:04:02.323352Z",
     "start_time": "2023-11-09T09:04:02.319634Z"
    }
   },
   "outputs": [],
   "source": [
    "B = 50\n",
    "bs_samples = np.zeros((B, n))\n",
    "# 完成B次Bootstrap sample\n",
    "for i in range(B):\n",
    "    bs_sample = np.random.choice(sample, size=n, replace=True)\n",
    "    bs_samples[i] = bs_sample"
   ]
  },
  {
   "cell_type": "code",
   "execution_count": 5,
   "id": "8af964cb",
   "metadata": {
    "ExecuteTime": {
     "end_time": "2023-11-09T09:04:02.331475Z",
     "start_time": "2023-11-09T09:04:02.324585Z"
    }
   },
   "outputs": [
    {
     "name": "stdout",
     "output_type": "stream",
     "text": [
      "5430.41\n",
      "74.44\n"
     ]
    }
   ],
   "source": [
    "# 计算每个Bootstrap sample的sample median，得到Bootstrap medians\n",
    "bs_medians = np.median(bs_samples, axis=1)\n",
    "\n",
    "# 衡量估计量的acc: 用Bootstrap medians的标准差作为样本中位数标准差的估计量\n",
    "var_sample_median = np.var(bs_medians)\n",
    "print(f\"{var_sample_median:.2f}\")\n",
    "\n",
    "# 衡量估计量的acc: 也可以用Bootstrap medians的标准差估计样本中位数的标准差\n",
    "std_bs_median = np.std(bs_medians, ddof=1) \n",
    "print(f\"{std_bs_median:.2f}\")"
   ]
  },
  {
   "cell_type": "code",
   "execution_count": 6,
   "id": "5b4b1650",
   "metadata": {
    "ExecuteTime": {
     "end_time": "2023-11-09T09:04:02.337665Z",
     "start_time": "2023-11-09T09:04:02.332652Z"
    }
   },
   "outputs": [
    {
     "name": "stdout",
     "output_type": "stream",
     "text": [
      "[ 44.59860656 336.40139344]\n"
     ]
    }
   ],
   "source": [
    "# 计算总体中位数的1-α置信区间\n",
    "confidence_in = sample_median + \\\n",
    "                np.array([-1, 1]) * std_bs_median * 1.96\n",
    "print(f\"{confidence_in}\")"
   ]
  }
 ],
 "metadata": {
  "kernelspec": {
   "display_name": "Python 3 (ipykernel)",
   "language": "python",
   "name": "python3"
  },
  "language_info": {
   "codemirror_mode": {
    "name": "ipython",
    "version": 3
   },
   "file_extension": ".py",
   "mimetype": "text/x-python",
   "name": "python",
   "nbconvert_exporter": "python",
   "pygments_lexer": "ipython3",
   "version": "3.10.12"
  }
 },
 "nbformat": 4,
 "nbformat_minor": 5
}
